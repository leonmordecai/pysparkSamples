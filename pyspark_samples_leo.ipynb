{
 "cells": [
  {
   "cell_type": "code",
   "execution_count": 0,
   "metadata": {
    "application/vnd.databricks.v1+cell": {
     "cellMetadata": {
      "byteLimit": 2048000,
      "rowLimit": 10000
     },
     "inputWidgets": {},
     "nuid": "c66b2d87-33db-4511-b3de-dea42737234c",
     "showTitle": false,
     "title": ""
    }
   },
   "outputs": [],
   "source": [
    "# IMPORTS ON START OF LINE\n",
    "# IMPORT DATATYPES\n",
    "\n",
    "# import spark at start of line & create a spark variable\n",
    "from pyspark.sql import SparkSession\n",
    "from pyspark.sql import Row\n",
    "from pyspark.sql import *\n",
    "spark = SparkSession.builder.getOrCreate()\n",
    "\n",
    "# import datatypes\n",
    "from pyspark.sql.types import *\n",
    "from pyspark.sql.functions import *\n"
   ]
  },
  {
   "cell_type": "code",
   "execution_count": 0,
   "metadata": {
    "application/vnd.databricks.v1+cell": {
     "cellMetadata": {
      "byteLimit": 2048000,
      "rowLimit": 10000
     },
     "inputWidgets": {},
     "nuid": "6ac7c969-d69d-48d1-87f4-1befb442f64f",
     "showTitle": false,
     "title": ""
    }
   },
   "outputs": [
    {
     "output_type": "stream",
     "name": "stdout",
     "output_type": "stream",
     "text": [
      "+-----------+----------+---------+--------+------------+---------+----------+------+--------------+----------+-------------+\n|EMPLOYEE_ID|FIRST_NAME|LAST_NAME|   EMAIL|PHONE_NUMBER|HIRE_DATE|    JOB_ID|SALARY|COMMISSION_PCT|MANAGER_ID|DEPARTMENT_ID|\n+-----------+----------+---------+--------+------------+---------+----------+------+--------------+----------+-------------+\n|        198|    Donald| OConnell|DOCONNEL|650.507.9833|21-JUN-07|  SH_CLERK|  2600|          null|       124|           50|\n|        199|   Douglas|    Grant|  DGRANT|650.507.9844|13-JAN-08|  SH_CLERK|  2600|          null|       124|           50|\n|        200|  Jennifer|   Whalen| JWHALEN|515.123.4444|17-SEP-03|   AD_ASST|  4400|          null|       101|           10|\n|        201|   Michael|Hartstein|MHARTSTE|515.123.5555|17-FEB-04|    MK_MAN| 13000|          null|       100|           20|\n|        202|       Pat|      Fay|    PFAY|603.123.6666|17-AUG-05|    MK_REP|  6000|          null|       201|           20|\n|        203|     Susan|   Mavris| SMAVRIS|515.123.7777|07-JUN-02|    HR_REP|  6500|          null|       101|           40|\n|        204|   Hermann|     Baer|   HBAER|515.123.8888|07-JUN-02|    PR_REP| 10000|          null|       101|           70|\n|        205|   Shelley|  Higgins|SHIGGINS|515.123.8080|07-JUN-02|    AC_MGR| 12008|          null|       101|          110|\n|        206|   William|    Gietz|  WGIETZ|515.123.8181|07-JUN-02|AC_ACCOUNT|  8300|          null|       205|          110|\n|        100|    Steven|     King|   SKING|515.123.4567|17-JUN-03|   AD_PRES| 24000|          null|      null|           90|\n|        101|     Neena|  Kochhar|NKOCHHAR|515.123.4568|21-SEP-05|     AD_VP| 17000|          null|       100|           90|\n|        102|       Lex|  De Haan| LDEHAAN|515.123.4569|13-JAN-01|     AD_VP| 17000|          null|       100|           90|\n|        103| Alexander|   Hunold| AHUNOLD|590.423.4567|03-JAN-06|   IT_PROG|  9000|          null|       102|           60|\n|        104|     Bruce|    Ernst|  BERNST|590.423.4568|21-MAY-07|   IT_PROG|  6000|          null|       103|           60|\n|        105|     David|   Austin| DAUSTIN|590.423.4569|25-JUN-05|   IT_PROG|  4800|          null|       103|           60|\n|        106|     Valli|Pataballa|VPATABAL|590.423.4560|05-FEB-06|   IT_PROG|  4800|          null|       103|           60|\n|        107|     Diana|  Lorentz|DLORENTZ|590.423.5567|07-FEB-07|   IT_PROG|  4200|          null|       103|           60|\n|        108|     Nancy|Greenberg|NGREENBE|515.124.4569|17-AUG-02|    FI_MGR| 12008|          null|       101|          100|\n|        109|    Daniel|   Faviet| DFAVIET|515.124.4169|16-AUG-02|FI_ACCOUNT|  9000|          null|       108|          100|\n|        110|      John|     Chen|   JCHEN|515.124.4269|28-SEP-05|FI_ACCOUNT|  8200|          null|       108|          100|\n+-----------+----------+---------+--------+------------+---------+----------+------+--------------+----------+-------------+\nonly showing top 20 rows\n\n+-------------+--------------------+----------+-----------+\n|DEPARTMENT_ID|     DEPARTMENT_NAME|MANAGER_ID|LOCATION_ID|\n+-------------+--------------------+----------+-----------+\n|           10|      Administration|       200|       1700|\n|           20|           Marketing|       201|       1800|\n|           30|          Purchasing|       114|       1700|\n|           40|     Human Resources|       203|       2400|\n|           50|            Shipping|       121|       1500|\n|           60|                  IT|       103|       1400|\n|           70|    Public Relations|       204|       2700|\n|           80|               Sales|       145|       2500|\n|           90|           Executive|       100|       1700|\n|          100|             Finance|       108|       1700|\n|          110|          Accounting|       205|       1700|\n|          120|            Treasury|        - |       1700|\n|          130|       Corporate Tax|        - |       1700|\n|          140|  Control And Credit|        - |       1700|\n|          150|Shareholder Services|        - |       1700|\n|          160|            Benefits|        - |       1700|\n|          170|       Manufacturing|        - |       1700|\n|          180|        Construction|        - |       1700|\n|          190|         Contracting|        - |       1700|\n|          200|          Operations|        - |       1700|\n+-------------+--------------------+----------+-----------+\nonly showing top 20 rows\n\n"
     ]
    }
   ],
   "source": [
    "# LOADING CSV/JSON & OTHER TYPES OF FILES + CREATING DF ON THE LOADED FILES\n",
    "# OPTIONS OF LOADING THE FILES \n",
    "\n",
    "# Import csv\n",
    "df1=spark.read.option('header', 'true').csv('/FileStore/tables/employees_new.csv',inferSchema=True)\n",
    "df1.show()\n",
    "\n",
    "df2=spark.read.option('header', 'true').csv('/FileStore/tables/departments.csv',inferSchema=True)\n",
    "df2.show()\n",
    "\n",
    "# Import json\n",
    "# df1 = spark.read.load(\"/FileStore/tables/employees.json\")\n",
    "# df1 = spark.read.load(\"/FileStore/tables/employees.json\", format=\"json\")\n",
    "\n",
    "# Import parquet\n",
    "# df1 = spark.read.load(\"/FileStore/tables/employees.parquet\")\n",
    "# df1 = spark.read.load(\"/FileStore/tables/employees.parquet\", format=\"parquet\")\n"
   ]
  },
  {
   "cell_type": "code",
   "execution_count": 0,
   "metadata": {
    "application/vnd.databricks.v1+cell": {
     "cellMetadata": {
      "byteLimit": 2048000,
      "rowLimit": 10000
     },
     "inputWidgets": {},
     "nuid": "9ff6b818-d1f0-4b48-82fa-fbd4b46f3c1d",
     "showTitle": false,
     "title": ""
    }
   },
   "outputs": [
    {
     "output_type": "stream",
     "name": "stdout",
     "output_type": "stream",
     "text": [
      "+--------+----------+------+\n|Employee|Department|Salary|\n+--------+----------+------+\n|   James|     Sales|  3000|\n| Michael|     Sales|  4600|\n|  Robert|     Sales|  4100|\n+--------+----------+------+\n\n"
     ]
    }
   ],
   "source": [
    "# CREATING DATAFRAMES MANUALLY\n",
    "\n",
    "# Create dataframes manually\n",
    "data = [('James', 'Sales', 3000),\n",
    "\t    ('Michael', 'Sales', 4600),\n",
    "\t    ('Robert', 'Sales', 4100)]\n",
    "columns = [\"Employee\", \"Department\", \"Salary\"]\n",
    "df_manual_create = spark.createDataFrame(data, columns)\n",
    "df_manual_create.show()"
   ]
  },
  {
   "cell_type": "code",
   "execution_count": 0,
   "metadata": {
    "application/vnd.databricks.v1+cell": {
     "cellMetadata": {
      "byteLimit": 2048000,
      "rowLimit": 10000
     },
     "inputWidgets": {},
     "nuid": "403d50e7-e880-4593-aefa-ab9290af4ba9",
     "showTitle": false,
     "title": ""
    }
   },
   "outputs": [
    {
     "output_type": "stream",
     "name": "stdout",
     "output_type": "stream",
     "text": [
      "+-----------+----------+---------+--------+------------+---------+----------+------+--------------+----------+-------------+\n|EMPLOYEE_ID|FIRST_NAME|LAST_NAME|   EMAIL|PHONE_NUMBER|HIRE_DATE|    JOB_ID|SALARY|COMMISSION_PCT|MANAGER_ID|DEPARTMENT_ID|\n+-----------+----------+---------+--------+------------+---------+----------+------+--------------+----------+-------------+\n|        198|    Donald| OConnell|DOCONNEL|650.507.9833|21-JUN-07|  SH_CLERK|  2600|          null|       124|           50|\n|        199|   Douglas|    Grant|  DGRANT|650.507.9844|13-JAN-08|  SH_CLERK|  2600|          null|       124|           50|\n|        200|  Jennifer|   Whalen| JWHALEN|515.123.4444|17-SEP-03|   AD_ASST|  4400|          null|       101|           10|\n|        201|   Michael|Hartstein|MHARTSTE|515.123.5555|17-FEB-04|    MK_MAN| 13000|          null|       100|           20|\n|        202|       Pat|      Fay|    PFAY|603.123.6666|17-AUG-05|    MK_REP|  6000|          null|       201|           20|\n|        203|     Susan|   Mavris| SMAVRIS|515.123.7777|07-JUN-02|    HR_REP|  6500|          null|       101|           40|\n|        204|   Hermann|     Baer|   HBAER|515.123.8888|07-JUN-02|    PR_REP| 10000|          null|       101|           70|\n|        205|   Shelley|  Higgins|SHIGGINS|515.123.8080|07-JUN-02|    AC_MGR| 12008|          null|       101|          110|\n|        206|   William|    Gietz|  WGIETZ|515.123.8181|07-JUN-02|AC_ACCOUNT|  8300|          null|       205|          110|\n|        100|    Steven|     King|   SKING|515.123.4567|17-JUN-03|   AD_PRES| 24000|          null|      null|           90|\n|        101|     Neena|  Kochhar|NKOCHHAR|515.123.4568|21-SEP-05|     AD_VP| 17000|          null|       100|           90|\n|        102|       Lex|  De Haan| LDEHAAN|515.123.4569|13-JAN-01|     AD_VP| 17000|          null|       100|           90|\n|        103| Alexander|   Hunold| AHUNOLD|590.423.4567|03-JAN-06|   IT_PROG|  9000|          null|       102|           60|\n|        104|     Bruce|    Ernst|  BERNST|590.423.4568|21-MAY-07|   IT_PROG|  6000|          null|       103|           60|\n|        105|     David|   Austin| DAUSTIN|590.423.4569|25-JUN-05|   IT_PROG|  4800|          null|       103|           60|\n|        106|     Valli|Pataballa|VPATABAL|590.423.4560|05-FEB-06|   IT_PROG|  4800|          null|       103|           60|\n|        107|     Diana|  Lorentz|DLORENTZ|590.423.5567|07-FEB-07|   IT_PROG|  4200|          null|       103|           60|\n|        108|     Nancy|Greenberg|NGREENBE|515.124.4569|17-AUG-02|    FI_MGR| 12008|          null|       101|          100|\n|        109|    Daniel|   Faviet| DFAVIET|515.124.4169|16-AUG-02|FI_ACCOUNT|  9000|          null|       108|          100|\n|        110|      John|     Chen|   JCHEN|515.124.4269|28-SEP-05|FI_ACCOUNT|  8200|          null|       108|          100|\n+-----------+----------+---------+--------+------------+---------+----------+------+--------------+----------+-------------+\nonly showing top 20 rows\n\n+-------+------------------+----------+---------+------+------------+---------+----------+-----------------+--------------+------------------+-----------------+\n|summary|       EMPLOYEE_ID|FIRST_NAME|LAST_NAME| EMAIL|PHONE_NUMBER|HIRE_DATE|    JOB_ID|           SALARY|COMMISSION_PCT|        MANAGER_ID|    DEPARTMENT_ID|\n+-------+------------------+----------+---------+------+------------+---------+----------+-----------------+--------------+------------------+-----------------+\n|  count|                50|        50|       50|    50|          50|       50|        50|               50|             0|                49|               50|\n|   mean|            134.76|      null|     null|  null|        null|     null|      null|          6182.32|          null|114.83673469387755|             57.6|\n| stddev|33.631593504213456|      null|     null|  null|        null|     null|      null|4586.181771631927|          null|20.591611296406914|25.11686968666962|\n|    min|               100|      Adam| Atkinson|AFRIPP|515.123.4444|01-MAY-03|AC_ACCOUNT|             2100|          null|               100|               10|\n|    max|               206|   William|   Whalen|WGIETZ|650.507.9844|30-SEP-05|    ST_MAN|            24000|          null|               205|              110|\n+-------+------------------+----------+---------+------+------------+---------+----------+-----------------+--------------+------------------+-----------------+\n\nroot\n |-- EMPLOYEE_ID: integer (nullable = true)\n |-- FIRST_NAME: string (nullable = true)\n |-- LAST_NAME: string (nullable = true)\n |-- EMAIL: string (nullable = true)\n |-- PHONE_NUMBER: string (nullable = true)\n |-- HIRE_DATE: string (nullable = true)\n |-- JOB_ID: string (nullable = true)\n |-- SALARY: integer (nullable = true)\n |-- COMMISSION_PCT: string (nullable = true)\n |-- MANAGER_ID: integer (nullable = true)\n |-- DEPARTMENT_ID: integer (nullable = true)\n\n== Physical Plan ==\nFileScan csv [EMPLOYEE_ID#14711,FIRST_NAME#14712,LAST_NAME#14713,EMAIL#14714,PHONE_NUMBER#14715,HIRE_DATE#14716,JOB_ID#14717,SALARY#14718,COMMISSION_PCT#14719,MANAGER_ID#14720,DEPARTMENT_ID#14721] Batched: false, DataFilters: [], Format: CSV, Location: InMemoryFileIndex(1 paths)[dbfs:/FileStore/tables/employees_new.csv], PartitionFilters: [], PushedFilters: [], ReadSchema: struct<EMPLOYEE_ID:int,FIRST_NAME:string,LAST_NAME:string,EMAIL:string,PHONE_NUMBER:string,HIRE_D...\n\n\n"
     ]
    }
   ],
   "source": [
    "# INSPECTING DATA\n",
    "# CHECKING DF TYPES\n",
    "# USING SHOW\n",
    "# USING PRINTSCHEMA\n",
    "\n",
    "# Return dataframe's column names and dataypes\n",
    "df1.dtypes\n",
    "\n",
    "# Display the content of df1\n",
    "df1.show()\n",
    "\n",
    "# Return first n rows\n",
    "df1.head(10)\n",
    "\n",
    "# Return first row\n",
    "df1.first()\n",
    "\n",
    "# Return the first n rows df1.schema\n",
    "df1.take(2)\n",
    "\n",
    "# Compute summary statistics df1.columns Return the columns of df1\n",
    "df1.describe().show()\n",
    "\n",
    "# Count the number of rows in df1\n",
    "df1.count()\n",
    "\n",
    "# Count the number of distinct rows in df1\n",
    "df1.distinct().count()\n",
    "\n",
    "# Print the schema of df1\n",
    "df1.printSchema()\n",
    "\n",
    "# Print the (logical and physical) plans\n",
    "df1.explain()\n"
   ]
  },
  {
   "cell_type": "code",
   "execution_count": 0,
   "metadata": {
    "application/vnd.databricks.v1+cell": {
     "cellMetadata": {
      "byteLimit": 2048000,
      "rowLimit": 10000
     },
     "inputWidgets": {},
     "nuid": "9170c9f6-8c10-4846-a128-bfc312a99a2c",
     "showTitle": false,
     "title": ""
    }
   },
   "outputs": [
    {
     "output_type": "stream",
     "name": "stdout",
     "output_type": "stream",
     "text": [
      "+-----------+----------+---------+--------+------------+---------+----------+------+--------------+----------+-------------+\n|EMPLOYEE_ID|FIRST_NAME|LAST_NAME|   EMAIL|PHONE_NUMBER|HIRE_DATE|    JOB_ID|SALARY|COMMISSION_PCT|MANAGER_ID|DEPARTMENT_ID|\n+-----------+----------+---------+--------+------------+---------+----------+------+--------------+----------+-------------+\n|        198|    Donald| OConnell|DOCONNEL|650.507.9833|21-JUN-07|  SH_CLERK|  2600|          null|       124|           50|\n|        199|   Douglas|    Grant|  DGRANT|650.507.9844|13-JAN-08|  SH_CLERK|  2600|          null|       124|           50|\n|        200|  Jennifer|   Whalen| JWHALEN|515.123.4444|17-SEP-03|   AD_ASST|  4400|          null|       101|           10|\n|        201|   Michael|Hartstein|MHARTSTE|515.123.5555|17-FEB-04|    MK_MAN| 13000|          null|       100|           20|\n|        202|       Pat|      Fay|    PFAY|603.123.6666|17-AUG-05|    MK_REP|  6000|          null|       201|           20|\n|        203|     Susan|   Mavris| SMAVRIS|515.123.7777|07-JUN-02|    HR_REP|  6500|          null|       101|           40|\n|        204|   Hermann|     Baer|   HBAER|515.123.8888|07-JUN-02|    PR_REP| 10000|          null|       101|           70|\n|        205|   Shelley|  Higgins|SHIGGINS|515.123.8080|07-JUN-02|    AC_MGR| 12008|          null|       101|          110|\n|        206|   William|    Gietz|  WGIETZ|515.123.8181|07-JUN-02|AC_ACCOUNT|  8300|          null|       205|          110|\n|        100|    Steven|     King|   SKING|515.123.4567|17-JUN-03|   AD_PRES| 24000|          null|      null|           90|\n|        101|     Neena|  Kochhar|NKOCHHAR|515.123.4568|21-SEP-05|     AD_VP| 17000|          null|       100|           90|\n|        102|       Lex|  De Haan| LDEHAAN|515.123.4569|13-JAN-01|     AD_VP| 17000|          null|       100|           90|\n|        103| Alexander|   Hunold| AHUNOLD|590.423.4567|03-JAN-06|   IT_PROG|  9000|          null|       102|           60|\n|        104|     Bruce|    Ernst|  BERNST|590.423.4568|21-MAY-07|   IT_PROG|  6000|          null|       103|           60|\n|        105|     David|   Austin| DAUSTIN|590.423.4569|25-JUN-05|   IT_PROG|  4800|          null|       103|           60|\n|        106|     Valli|Pataballa|VPATABAL|590.423.4560|05-FEB-06|   IT_PROG|  4800|          null|       103|           60|\n|        107|     Diana|  Lorentz|DLORENTZ|590.423.5567|07-FEB-07|   IT_PROG|  4200|          null|       103|           60|\n|        108|     Nancy|Greenberg|NGREENBE|515.124.4569|17-AUG-02|    FI_MGR| 12008|          null|       101|          100|\n|        109|    Daniel|   Faviet| DFAVIET|515.124.4169|16-AUG-02|FI_ACCOUNT|  9000|          null|       108|          100|\n|        110|      John|     Chen|   JCHEN|515.124.4269|28-SEP-05|FI_ACCOUNT|  8200|          null|       108|          100|\n+-----------+----------+---------+--------+------------+---------+----------+------+--------------+----------+-------------+\nonly showing top 20 rows\n\n+-----------+----------+\n|EMPLOYEE_ID|FIRST_NAME|\n+-----------+----------+\n|        198|    Donald|\n|        199|   Douglas|\n|        200|  Jennifer|\n|        201|   Michael|\n|        202|       Pat|\n|        203|     Susan|\n|        204|   Hermann|\n|        205|   Shelley|\n|        206|   William|\n|        100|    Steven|\n|        101|     Neena|\n|        102|       Lex|\n|        103| Alexander|\n|        104|     Bruce|\n|        105|     David|\n|        106|     Valli|\n|        107|     Diana|\n|        108|     Nancy|\n|        109|    Daniel|\n|        110|      John|\n+-----------+----------+\nonly showing top 20 rows\n\n+-----------+----------+\n|EMPLOYEE_ID|FIRST_NAME|\n+-----------+----------+\n|        198|    Donald|\n|        199|   Douglas|\n|        200|  Jennifer|\n|        201|   Michael|\n|        202|       Pat|\n|        203|     Susan|\n|        204|   Hermann|\n|        205|   Shelley|\n|        206|   William|\n|        100|    Steven|\n|        101|     Neena|\n|        102|       Lex|\n|        103| Alexander|\n|        104|     Bruce|\n|        105|     David|\n|        106|     Valli|\n|        107|     Diana|\n|        108|     Nancy|\n|        109|    Daniel|\n|        110|      John|\n+-----------+----------+\nonly showing top 20 rows\n\n"
     ]
    }
   ],
   "source": [
    "# SELECTING COLUMNS - SELECTING ALL & ONLY SELECT COLUMNS\n",
    "\n",
    "df1.select('*').show()\n",
    "df1.select('EMPLOYEE_ID', 'FIRST_NAME').show()\n",
    "df1.select(df1.EMPLOYEE_ID, df1.FIRST_NAME).show()"
   ]
  },
  {
   "cell_type": "code",
   "execution_count": 0,
   "metadata": {
    "application/vnd.databricks.v1+cell": {
     "cellMetadata": {
      "byteLimit": 2048000,
      "rowLimit": 10000
     },
     "inputWidgets": {},
     "nuid": "3c24655a-eef0-483d-ad84-8f8080ccb183",
     "showTitle": false,
     "title": ""
    }
   },
   "outputs": [
    {
     "output_type": "stream",
     "name": "stdout",
     "output_type": "stream",
     "text": [
      "+-----------+----------+---------+--------+------------+---------+----------+------+--------------+----------+-------------+------+\n|EMPLOYEE_ID|FIRST_NAME|LAST_NAME|   EMAIL|PHONE_NUMBER|HIRE_DATE|    JOB_ID|SALARY|COMMISSION_PCT|MANAGER_ID|DEPARTMENT_ID|STATUS|\n+-----------+----------+---------+--------+------------+---------+----------+------+--------------+----------+-------------+------+\n|        198|    Donald| OConnell|DOCONNEL|650.507.9833|21-JUN-07|  SH_CLERK|  2600|          null|       124|           50|  null|\n|        199|   Douglas|    Grant|  DGRANT|650.507.9844|13-JAN-08|  SH_CLERK|  2600|          null|       124|           50|  null|\n|        200|  Jennifer|   Whalen| JWHALEN|515.123.4444|17-SEP-03|   AD_ASST|  4400|          null|       101|           10|  null|\n|        201|   Michael|Hartstein|MHARTSTE|515.123.5555|17-FEB-04|    MK_MAN| 13000|          null|       100|           20|  null|\n|        202|       Pat|      Fay|    PFAY|603.123.6666|17-AUG-05|    MK_REP|  6000|          null|       201|           20|  null|\n|        203|     Susan|   Mavris| SMAVRIS|515.123.7777|07-JUN-02|    HR_REP|  6500|          null|       101|           40|  null|\n|        204|   Hermann|     Baer|   HBAER|515.123.8888|07-JUN-02|    PR_REP| 10000|          null|       101|           70|  null|\n|        205|   Shelley|  Higgins|SHIGGINS|515.123.8080|07-JUN-02|    AC_MGR| 12008|          null|       101|          110|  null|\n|        206|   William|    Gietz|  WGIETZ|515.123.8181|07-JUN-02|AC_ACCOUNT|  8300|          null|       205|          110|  null|\n|        100|    Steven|     King|   SKING|515.123.4567|17-JUN-03|   AD_PRES| 24000|          null|      null|           90|  null|\n|        101|     Neena|  Kochhar|NKOCHHAR|515.123.4568|21-SEP-05|     AD_VP| 17000|          null|       100|           90|  null|\n|        102|       Lex|  De Haan| LDEHAAN|515.123.4569|13-JAN-01|     AD_VP| 17000|          null|       100|           90|  null|\n|        103| Alexander|   Hunold| AHUNOLD|590.423.4567|03-JAN-06|   IT_PROG|  9000|          null|       102|           60|  null|\n|        104|     Bruce|    Ernst|  BERNST|590.423.4568|21-MAY-07|   IT_PROG|  6000|          null|       103|           60|  null|\n|        105|     David|   Austin| DAUSTIN|590.423.4569|25-JUN-05|   IT_PROG|  4800|          null|       103|           60|  null|\n|        106|     Valli|Pataballa|VPATABAL|590.423.4560|05-FEB-06|   IT_PROG|  4800|          null|       103|           60|  null|\n|        107|     Diana|  Lorentz|DLORENTZ|590.423.5567|07-FEB-07|   IT_PROG|  4200|          null|       103|           60|  null|\n|        108|     Nancy|Greenberg|NGREENBE|515.124.4569|17-AUG-02|    FI_MGR| 12008|          null|       101|          100|  null|\n|        109|    Daniel|   Faviet| DFAVIET|515.124.4169|16-AUG-02|FI_ACCOUNT|  9000|          null|       108|          100|  null|\n|        110|      John|     Chen|   JCHEN|515.124.4269|28-SEP-05|FI_ACCOUNT|  8200|          null|       108|          100|  null|\n+-----------+----------+---------+--------+------------+---------+----------+------+--------------+----------+-------------+------+\nonly showing top 20 rows\n\n+-----------+----------+---------+--------+------------+---------+----------+------+--------------+----------+-------------+-----------------+\n|EMPLOYEE_ID|FIRST_NAME|LAST_NAME|   EMAIL|PHONE_NUMBER|HIRE_DATE|    JOB_ID|SALARY|COMMISSION_PCT|MANAGER_ID|DEPARTMENT_ID|        FULL_NAME|\n+-----------+----------+---------+--------+------------+---------+----------+------+--------------+----------+-------------+-----------------+\n|        198|    Donald| OConnell|DOCONNEL|650.507.9833|21-JUN-07|  SH_CLERK|  2600|          null|       124|           50|  Donald OConnell|\n|        199|   Douglas|    Grant|  DGRANT|650.507.9844|13-JAN-08|  SH_CLERK|  2600|          null|       124|           50|    Douglas Grant|\n|        200|  Jennifer|   Whalen| JWHALEN|515.123.4444|17-SEP-03|   AD_ASST|  4400|          null|       101|           10|  Jennifer Whalen|\n|        201|   Michael|Hartstein|MHARTSTE|515.123.5555|17-FEB-04|    MK_MAN| 13000|          null|       100|           20|Michael Hartstein|\n|        202|       Pat|      Fay|    PFAY|603.123.6666|17-AUG-05|    MK_REP|  6000|          null|       201|           20|          Pat Fay|\n|        203|     Susan|   Mavris| SMAVRIS|515.123.7777|07-JUN-02|    HR_REP|  6500|          null|       101|           40|     Susan Mavris|\n|        204|   Hermann|     Baer|   HBAER|515.123.8888|07-JUN-02|    PR_REP| 10000|          null|       101|           70|     Hermann Baer|\n|        205|   Shelley|  Higgins|SHIGGINS|515.123.8080|07-JUN-02|    AC_MGR| 12008|          null|       101|          110|  Shelley Higgins|\n|        206|   William|    Gietz|  WGIETZ|515.123.8181|07-JUN-02|AC_ACCOUNT|  8300|          null|       205|          110|    William Gietz|\n|        100|    Steven|     King|   SKING|515.123.4567|17-JUN-03|   AD_PRES| 24000|          null|      null|           90|      Steven King|\n|        101|     Neena|  Kochhar|NKOCHHAR|515.123.4568|21-SEP-05|     AD_VP| 17000|          null|       100|           90|    Neena Kochhar|\n|        102|       Lex|  De Haan| LDEHAAN|515.123.4569|13-JAN-01|     AD_VP| 17000|          null|       100|           90|      Lex De Haan|\n|        103| Alexander|   Hunold| AHUNOLD|590.423.4567|03-JAN-06|   IT_PROG|  9000|          null|       102|           60| Alexander Hunold|\n|        104|     Bruce|    Ernst|  BERNST|590.423.4568|21-MAY-07|   IT_PROG|  6000|          null|       103|           60|      Bruce Ernst|\n|        105|     David|   Austin| DAUSTIN|590.423.4569|25-JUN-05|   IT_PROG|  4800|          null|       103|           60|     David Austin|\n|        106|     Valli|Pataballa|VPATABAL|590.423.4560|05-FEB-06|   IT_PROG|  4800|          null|       103|           60|  Valli Pataballa|\n|        107|     Diana|  Lorentz|DLORENTZ|590.423.5567|07-FEB-07|   IT_PROG|  4200|          null|       103|           60|    Diana Lorentz|\n|        108|     Nancy|Greenberg|NGREENBE|515.124.4569|17-AUG-02|    FI_MGR| 12008|          null|       101|          100|  Nancy Greenberg|\n|        109|    Daniel|   Faviet| DFAVIET|515.124.4169|16-AUG-02|FI_ACCOUNT|  9000|          null|       108|          100|    Daniel Faviet|\n|        110|      John|     Chen|   JCHEN|515.124.4269|28-SEP-05|FI_ACCOUNT|  8200|          null|       108|          100|        John Chen|\n+-----------+----------+---------+--------+------------+---------+----------+------+--------------+----------+-------------+-----------------+\nonly showing top 20 rows\n\n+-----------+--------------+---------+--------+------------+---------+----------+------+--------------+----------+-------------+\n|EMPLOYEE_ID|FIRST_NAME_REN|LAST_NAME|   EMAIL|PHONE_NUMBER|HIRE_DATE|    JOB_ID|SALARY|COMMISSION_PCT|MANAGER_ID|DEPARTMENT_ID|\n+-----------+--------------+---------+--------+------------+---------+----------+------+--------------+----------+-------------+\n|        198|        Donald| OConnell|DOCONNEL|650.507.9833|21-JUN-07|  SH_CLERK|  2600|          null|       124|           50|\n|        199|       Douglas|    Grant|  DGRANT|650.507.9844|13-JAN-08|  SH_CLERK|  2600|          null|       124|           50|\n|        200|      Jennifer|   Whalen| JWHALEN|515.123.4444|17-SEP-03|   AD_ASST|  4400|          null|       101|           10|\n|        201|       Michael|Hartstein|MHARTSTE|515.123.5555|17-FEB-04|    MK_MAN| 13000|          null|       100|           20|\n|        202|           Pat|      Fay|    PFAY|603.123.6666|17-AUG-05|    MK_REP|  6000|          null|       201|           20|\n|        203|         Susan|   Mavris| SMAVRIS|515.123.7777|07-JUN-02|    HR_REP|  6500|          null|       101|           40|\n|        204|       Hermann|     Baer|   HBAER|515.123.8888|07-JUN-02|    PR_REP| 10000|          null|       101|           70|\n|        205|       Shelley|  Higgins|SHIGGINS|515.123.8080|07-JUN-02|    AC_MGR| 12008|          null|       101|          110|\n|        206|       William|    Gietz|  WGIETZ|515.123.8181|07-JUN-02|AC_ACCOUNT|  8300|          null|       205|          110|\n|        100|        Steven|     King|   SKING|515.123.4567|17-JUN-03|   AD_PRES| 24000|          null|      null|           90|\n|        101|         Neena|  Kochhar|NKOCHHAR|515.123.4568|21-SEP-05|     AD_VP| 17000|          null|       100|           90|\n|        102|           Lex|  De Haan| LDEHAAN|515.123.4569|13-JAN-01|     AD_VP| 17000|          null|       100|           90|\n|        103|     Alexander|   Hunold| AHUNOLD|590.423.4567|03-JAN-06|   IT_PROG|  9000|          null|       102|           60|\n|        104|         Bruce|    Ernst|  BERNST|590.423.4568|21-MAY-07|   IT_PROG|  6000|          null|       103|           60|\n|        105|         David|   Austin| DAUSTIN|590.423.4569|25-JUN-05|   IT_PROG|  4800|          null|       103|           60|\n|        106|         Valli|Pataballa|VPATABAL|590.423.4560|05-FEB-06|   IT_PROG|  4800|          null|       103|           60|\n|        107|         Diana|  Lorentz|DLORENTZ|590.423.5567|07-FEB-07|   IT_PROG|  4200|          null|       103|           60|\n|        108|         Nancy|Greenberg|NGREENBE|515.124.4569|17-AUG-02|    FI_MGR| 12008|          null|       101|          100|\n|        109|        Daniel|   Faviet| DFAVIET|515.124.4169|16-AUG-02|FI_ACCOUNT|  9000|          null|       108|          100|\n|        110|          John|     Chen|   JCHEN|515.124.4269|28-SEP-05|FI_ACCOUNT|  8200|          null|       108|          100|\n+-----------+--------------+---------+--------+------------+---------+----------+------+--------------+----------+-------------+\nonly showing top 20 rows\n\n+-----------+--------+------------+---------+----------+------+--------------+----------+-------------+\n|EMPLOYEE_ID|   EMAIL|PHONE_NUMBER|HIRE_DATE|    JOB_ID|SALARY|COMMISSION_PCT|MANAGER_ID|DEPARTMENT_ID|\n+-----------+--------+------------+---------+----------+------+--------------+----------+-------------+\n|        198|DOCONNEL|650.507.9833|21-JUN-07|  SH_CLERK|  2600|          null|       124|           50|\n|        199|  DGRANT|650.507.9844|13-JAN-08|  SH_CLERK|  2600|          null|       124|           50|\n|        200| JWHALEN|515.123.4444|17-SEP-03|   AD_ASST|  4400|          null|       101|           10|\n|        201|MHARTSTE|515.123.5555|17-FEB-04|    MK_MAN| 13000|          null|       100|           20|\n|        202|    PFAY|603.123.6666|17-AUG-05|    MK_REP|  6000|          null|       201|           20|\n|        203| SMAVRIS|515.123.7777|07-JUN-02|    HR_REP|  6500|          null|       101|           40|\n|        204|   HBAER|515.123.8888|07-JUN-02|    PR_REP| 10000|          null|       101|           70|\n|        205|SHIGGINS|515.123.8080|07-JUN-02|    AC_MGR| 12008|          null|       101|          110|\n|        206|  WGIETZ|515.123.8181|07-JUN-02|AC_ACCOUNT|  8300|          null|       205|          110|\n|        100|   SKING|515.123.4567|17-JUN-03|   AD_PRES| 24000|          null|      null|           90|\n|        101|NKOCHHAR|515.123.4568|21-SEP-05|     AD_VP| 17000|          null|       100|           90|\n|        102| LDEHAAN|515.123.4569|13-JAN-01|     AD_VP| 17000|          null|       100|           90|\n|        103| AHUNOLD|590.423.4567|03-JAN-06|   IT_PROG|  9000|          null|       102|           60|\n|        104|  BERNST|590.423.4568|21-MAY-07|   IT_PROG|  6000|          null|       103|           60|\n|        105| DAUSTIN|590.423.4569|25-JUN-05|   IT_PROG|  4800|          null|       103|           60|\n|        106|VPATABAL|590.423.4560|05-FEB-06|   IT_PROG|  4800|          null|       103|           60|\n|        107|DLORENTZ|590.423.5567|07-FEB-07|   IT_PROG|  4200|          null|       103|           60|\n|        108|NGREENBE|515.124.4569|17-AUG-02|    FI_MGR| 12008|          null|       101|          100|\n|        109| DFAVIET|515.124.4169|16-AUG-02|FI_ACCOUNT|  9000|          null|       108|          100|\n|        110|   JCHEN|515.124.4269|28-SEP-05|FI_ACCOUNT|  8200|          null|       108|          100|\n+-----------+--------+------------+---------+----------+------+--------------+----------+-------------+\nonly showing top 20 rows\n\n+-----------+--------+------------+---------+----------+------+--------------+----------+-------------+\n|EMPLOYEE_ID|   EMAIL|PHONE_NUMBER|HIRE_DATE|    JOB_ID|SALARY|COMMISSION_PCT|MANAGER_ID|DEPARTMENT_ID|\n+-----------+--------+------------+---------+----------+------+--------------+----------+-------------+\n|        198|DOCONNEL|650.507.9833|21-JUN-07|  SH_CLERK|  2600|          null|       124|           50|\n|        199|  DGRANT|650.507.9844|13-JAN-08|  SH_CLERK|  2600|          null|       124|           50|\n|        200| JWHALEN|515.123.4444|17-SEP-03|   AD_ASST|  4400|          null|       101|           10|\n|        201|MHARTSTE|515.123.5555|17-FEB-04|    MK_MAN| 13000|          null|       100|           20|\n|        202|    PFAY|603.123.6666|17-AUG-05|    MK_REP|  6000|          null|       201|           20|\n|        203| SMAVRIS|515.123.7777|07-JUN-02|    HR_REP|  6500|          null|       101|           40|\n|        204|   HBAER|515.123.8888|07-JUN-02|    PR_REP| 10000|          null|       101|           70|\n|        205|SHIGGINS|515.123.8080|07-JUN-02|    AC_MGR| 12008|          null|       101|          110|\n|        206|  WGIETZ|515.123.8181|07-JUN-02|AC_ACCOUNT|  8300|          null|       205|          110|\n|        100|   SKING|515.123.4567|17-JUN-03|   AD_PRES| 24000|          null|      null|           90|\n|        101|NKOCHHAR|515.123.4568|21-SEP-05|     AD_VP| 17000|          null|       100|           90|\n|        102| LDEHAAN|515.123.4569|13-JAN-01|     AD_VP| 17000|          null|       100|           90|\n|        103| AHUNOLD|590.423.4567|03-JAN-06|   IT_PROG|  9000|          null|       102|           60|\n|        104|  BERNST|590.423.4568|21-MAY-07|   IT_PROG|  6000|          null|       103|           60|\n|        105| DAUSTIN|590.423.4569|25-JUN-05|   IT_PROG|  4800|          null|       103|           60|\n|        106|VPATABAL|590.423.4560|05-FEB-06|   IT_PROG|  4800|          null|       103|           60|\n|        107|DLORENTZ|590.423.5567|07-FEB-07|   IT_PROG|  4200|          null|       103|           60|\n|        108|NGREENBE|515.124.4569|17-AUG-02|    FI_MGR| 12008|          null|       101|          100|\n|        109| DFAVIET|515.124.4169|16-AUG-02|FI_ACCOUNT|  9000|          null|       108|          100|\n|        110|   JCHEN|515.124.4269|28-SEP-05|FI_ACCOUNT|  8200|          null|       108|          100|\n+-----------+--------+------------+---------+----------+------+--------------+----------+-------------+\nonly showing top 20 rows\n\n"
     ]
    }
   ],
   "source": [
    "# ADDING COLUMNS OF DF\n",
    "# RENAMING COLUMNS OF DF\n",
    "# DROPPING COLUMNS OF DF\n",
    "\n",
    "# Adding columns - filled with null values\n",
    "df_add_column1 = df1.withColumn('STATUS', lit(None))\n",
    "df_add_column1.show()\n",
    " \n",
    "# Adding columns - filled with derived values, use concat_ws to separate the column values, the first parameter is the spacer, in this case, an empty space\n",
    "df_add_column2 = df1.withColumn('FULL_NAME', concat_ws(' ', df1.FIRST_NAME, df1.LAST_NAME))\n",
    "df_add_column2.show()\n",
    "\n",
    "# Renaming columns\n",
    "df_rename_column1 = df1.withColumnRenamed('FIRST_NAME', 'FIRST_NAME_REN')\n",
    "df_rename_column1.show()\n",
    " \n",
    "# Removing columns\n",
    "df_drop_column1 = df1.drop('FIRST_NAME', 'LAST_NAME')\n",
    "df_drop_column1.show()\n",
    "df_drop_column2 = df1.drop(df1.FIRST_NAME).drop(df1.LAST_NAME)\n",
    "df_drop_column2.show()"
   ]
  },
  {
   "cell_type": "code",
   "execution_count": 0,
   "metadata": {
    "application/vnd.databricks.v1+cell": {
     "cellMetadata": {
      "byteLimit": 2048000,
      "rowLimit": 10000
     },
     "inputWidgets": {},
     "nuid": "2da877ad-0693-49ec-8817-c8dab2a41fc1",
     "showTitle": false,
     "title": ""
    }
   },
   "outputs": [
    {
     "output_type": "stream",
     "name": "stdout",
     "output_type": "stream",
     "text": [
      "+-----------+----------+---------+-----+------------+---------+------+------+--------------+----------+-------------+\n|EMPLOYEE_ID|FIRST_NAME|LAST_NAME|EMAIL|PHONE_NUMBER|HIRE_DATE|JOB_ID|SALARY|COMMISSION_PCT|MANAGER_ID|DEPARTMENT_ID|\n+-----------+----------+---------+-----+------------+---------+------+------+--------------+----------+-------------+\n+-----------+----------+---------+-----+------------+---------+------+------+--------------+----------+-------------+\n\n+-----------+----------+---------+--------+------------+---------+----------+------+--------------+----------+-------------+\n|EMPLOYEE_ID|FIRST_NAME|LAST_NAME|   EMAIL|PHONE_NUMBER|HIRE_DATE|    JOB_ID|SALARY|COMMISSION_PCT|MANAGER_ID|DEPARTMENT_ID|\n+-----------+----------+---------+--------+------------+---------+----------+------+--------------+----------+-------------+\n|        198|    Donald| OConnell|DOCONNEL|650.507.9833|21-JUN-07|  SH_CLERK|  2600|          null|       124|           50|\n|        199|   Douglas|    Grant|  DGRANT|650.507.9844|13-JAN-08|  SH_CLERK|  2600|          null|       124|           50|\n|        200|  Jennifer|   Whalen| JWHALEN|515.123.4444|17-SEP-03|   AD_ASST|  4400|          null|       101|           10|\n|        201|   Michael|Hartstein|MHARTSTE|515.123.5555|17-FEB-04|    MK_MAN| 13000|          null|       100|           20|\n|        202|       Pat|      Fay|    PFAY|603.123.6666|17-AUG-05|    MK_REP|  6000|          null|       201|           20|\n|        203|     Susan|   Mavris| SMAVRIS|515.123.7777|07-JUN-02|    HR_REP|  6500|          null|       101|           40|\n|        204|   Hermann|     Baer|   HBAER|515.123.8888|07-JUN-02|    PR_REP| 10000|          null|       101|           70|\n|        205|   Shelley|  Higgins|SHIGGINS|515.123.8080|07-JUN-02|    AC_MGR| 12008|          null|       101|          110|\n|        206|   William|    Gietz|  WGIETZ|515.123.8181|07-JUN-02|AC_ACCOUNT|  8300|          null|       205|          110|\n|        100|    Steven|     King|   SKING|515.123.4567|17-JUN-03|   AD_PRES| 24000|          null|      null|           90|\n|        101|     Neena|  Kochhar|NKOCHHAR|515.123.4568|21-SEP-05|     AD_VP| 17000|          null|       100|           90|\n|        102|       Lex|  De Haan| LDEHAAN|515.123.4569|13-JAN-01|     AD_VP| 17000|          null|       100|           90|\n|        103| Alexander|   Hunold| AHUNOLD|590.423.4567|03-JAN-06|   IT_PROG|  9000|          null|       102|           60|\n|        104|     Bruce|    Ernst|  BERNST|590.423.4568|21-MAY-07|   IT_PROG|  6000|          null|       103|           60|\n|        105|     David|   Austin| DAUSTIN|590.423.4569|25-JUN-05|   IT_PROG|  4800|          null|       103|           60|\n|        106|     Valli|Pataballa|VPATABAL|590.423.4560|05-FEB-06|   IT_PROG|  4800|          null|       103|           60|\n|        107|     Diana|  Lorentz|DLORENTZ|590.423.5567|07-FEB-07|   IT_PROG|  4200|          null|       103|           60|\n|        108|     Nancy|Greenberg|NGREENBE|515.124.4569|17-AUG-02|    FI_MGR| 12008|          null|       101|          100|\n|        109|    Daniel|   Faviet| DFAVIET|515.124.4169|16-AUG-02|FI_ACCOUNT|  9000|          null|       108|          100|\n|        110|      John|     Chen|   JCHEN|515.124.4269|28-SEP-05|FI_ACCOUNT|  8200|          null|       108|          100|\n+-----------+----------+---------+--------+------------+---------+----------+------+--------------+----------+-------------+\nonly showing top 20 rows\n\n+-----------+----------+---------+--------+------------+---------+----------+------+--------------+----------+-------------+\n|EMPLOYEE_ID|FIRST_NAME|LAST_NAME|   EMAIL|PHONE_NUMBER|HIRE_DATE|    JOB_ID|SALARY|COMMISSION_PCT|MANAGER_ID|DEPARTMENT_ID|\n+-----------+----------+---------+--------+------------+---------+----------+------+--------------+----------+-------------+\n|        198|    Donald| OConnell|DOCONNEL|650.507.9833|21-JUN-07|  SH_CLERK|  2600|          null|       124|           50|\n|        199|   Douglas|    Grant|  DGRANT|650.507.9844|13-JAN-08|  SH_CLERK|  2600|          null|       124|           50|\n|        200|  Jennifer|   Whalen| JWHALEN|515.123.4444|17-SEP-03|   AD_ASST|  4400|          null|       101|           10|\n|        201|   Michael|Hartstein|MHARTSTE|515.123.5555|17-FEB-04|    MK_MAN| 13000|          null|       100|           20|\n|        202|       Pat|      Fay|    PFAY|603.123.6666|17-AUG-05|    MK_REP|  6000|          null|       201|           20|\n|        203|     Susan|   Mavris| SMAVRIS|515.123.7777|07-JUN-02|    HR_REP|  6500|          null|       101|           40|\n|        204|   Hermann|     Baer|   HBAER|515.123.8888|07-JUN-02|    PR_REP| 10000|          null|       101|           70|\n|        205|   Shelley|  Higgins|SHIGGINS|515.123.8080|07-JUN-02|    AC_MGR| 12008|          null|       101|          110|\n|        206|   William|    Gietz|  WGIETZ|515.123.8181|07-JUN-02|AC_ACCOUNT|  8300|          null|       205|          110|\n|        100|    Steven|     King|   SKING|515.123.4567|17-JUN-03|   AD_PRES| 24000|          null|      null|           90|\n|        101|     Neena|  Kochhar|NKOCHHAR|515.123.4568|21-SEP-05|     AD_VP| 17000|          null|       100|           90|\n|        102|       Lex|  De Haan| LDEHAAN|515.123.4569|13-JAN-01|     AD_VP| 17000|          null|       100|           90|\n|        103| Alexander|   Hunold| AHUNOLD|590.423.4567|03-JAN-06|   IT_PROG|  9000|          null|       102|           60|\n|        104|     Bruce|    Ernst|  BERNST|590.423.4568|21-MAY-07|   IT_PROG|  6000|          null|       103|           60|\n|        105|     David|   Austin| DAUSTIN|590.423.4569|25-JUN-05|   IT_PROG|  4800|          null|       103|           60|\n|        106|     Valli|Pataballa|VPATABAL|590.423.4560|05-FEB-06|   IT_PROG|  4800|          null|       103|           60|\n|        107|     Diana|  Lorentz|DLORENTZ|590.423.5567|07-FEB-07|   IT_PROG|  4200|          null|       103|           60|\n|        108|     Nancy|Greenberg|NGREENBE|515.124.4569|17-AUG-02|    FI_MGR| 12008|          null|       101|          100|\n|        109|    Daniel|   Faviet| DFAVIET|515.124.4169|16-AUG-02|FI_ACCOUNT|  9000|          null|       108|          100|\n|        110|      John|     Chen|   JCHEN|515.124.4269|28-SEP-05|FI_ACCOUNT|  8200|          null|       108|          100|\n+-----------+----------+---------+--------+------------+---------+----------+------+--------------+----------+-------------+\nonly showing top 20 rows\n\n+-----------+----------+---------+-----+------------+---------+------+------+--------------+----------+-------------+\n|EMPLOYEE_ID|FIRST_NAME|LAST_NAME|EMAIL|PHONE_NUMBER|HIRE_DATE|JOB_ID|SALARY|COMMISSION_PCT|MANAGER_ID|DEPARTMENT_ID|\n+-----------+----------+---------+-----+------------+---------+------+------+--------------+----------+-------------+\n+-----------+----------+---------+-----+------------+---------+------+------+--------------+----------+-------------+\n\n+-----------+----------+---------+--------+------------+---------+----------+------+--------------+----------+-------------+\n|EMPLOYEE_ID|FIRST_NAME|LAST_NAME|   EMAIL|PHONE_NUMBER|HIRE_DATE|    JOB_ID|SALARY|COMMISSION_PCT|MANAGER_ID|DEPARTMENT_ID|\n+-----------+----------+---------+--------+------------+---------+----------+------+--------------+----------+-------------+\n|        198|    Donald| OConnell|DOCONNEL|650.507.9833|21-JUN-07|  SH_CLERK|  2600|Missing Values|       124|           50|\n|        199|   Douglas|    Grant|  DGRANT|650.507.9844|13-JAN-08|  SH_CLERK|  2600|Missing Values|       124|           50|\n|        200|  Jennifer|   Whalen| JWHALEN|515.123.4444|17-SEP-03|   AD_ASST|  4400|Missing Values|       101|           10|\n|        201|   Michael|Hartstein|MHARTSTE|515.123.5555|17-FEB-04|    MK_MAN| 13000|Missing Values|       100|           20|\n|        202|       Pat|      Fay|    PFAY|603.123.6666|17-AUG-05|    MK_REP|  6000|Missing Values|       201|           20|\n|        203|     Susan|   Mavris| SMAVRIS|515.123.7777|07-JUN-02|    HR_REP|  6500|Missing Values|       101|           40|\n|        204|   Hermann|     Baer|   HBAER|515.123.8888|07-JUN-02|    PR_REP| 10000|Missing Values|       101|           70|\n|        205|   Shelley|  Higgins|SHIGGINS|515.123.8080|07-JUN-02|    AC_MGR| 12008|Missing Values|       101|          110|\n|        206|   William|    Gietz|  WGIETZ|515.123.8181|07-JUN-02|AC_ACCOUNT|  8300|Missing Values|       205|          110|\n|        100|    Steven|     King|   SKING|515.123.4567|17-JUN-03|   AD_PRES| 24000|Missing Values|      null|           90|\n|        101|     Neena|  Kochhar|NKOCHHAR|515.123.4568|21-SEP-05|     AD_VP| 17000|Missing Values|       100|           90|\n|        102|       Lex|  De Haan| LDEHAAN|515.123.4569|13-JAN-01|     AD_VP| 17000|Missing Values|       100|           90|\n|        103| Alexander|   Hunold| AHUNOLD|590.423.4567|03-JAN-06|   IT_PROG|  9000|Missing Values|       102|           60|\n|        104|     Bruce|    Ernst|  BERNST|590.423.4568|21-MAY-07|   IT_PROG|  6000|Missing Values|       103|           60|\n|        105|     David|   Austin| DAUSTIN|590.423.4569|25-JUN-05|   IT_PROG|  4800|Missing Values|       103|           60|\n|        106|     Valli|Pataballa|VPATABAL|590.423.4560|05-FEB-06|   IT_PROG|  4800|Missing Values|       103|           60|\n|        107|     Diana|  Lorentz|DLORENTZ|590.423.5567|07-FEB-07|   IT_PROG|  4200|Missing Values|       103|           60|\n|        108|     Nancy|Greenberg|NGREENBE|515.124.4569|17-AUG-02|    FI_MGR| 12008|Missing Values|       101|          100|\n|        109|    Daniel|   Faviet| DFAVIET|515.124.4169|16-AUG-02|FI_ACCOUNT|  9000|Missing Values|       108|          100|\n|        110|      John|     Chen|   JCHEN|515.124.4269|28-SEP-05|FI_ACCOUNT|  8200|Missing Values|       108|          100|\n+-----------+----------+---------+--------+------------+---------+----------+------+--------------+----------+-------------+\nonly showing top 20 rows\n\n+-----------+----------+---------+--------+------------+---------+----------+------+--------------+----------+-------------+\n|EMPLOYEE_ID|FIRST_NAME|LAST_NAME|   EMAIL|PHONE_NUMBER|HIRE_DATE|    JOB_ID|SALARY|COMMISSION_PCT|MANAGER_ID|DEPARTMENT_ID|\n+-----------+----------+---------+--------+------------+---------+----------+------+--------------+----------+-------------+\n|        198|    Donald| OConnell|DOCONNEL|650.507.9833|21-JUN-07|  SH_CLERK|  2600|             A|       124|           50|\n|        199|   Douglas|    Grant|  DGRANT|650.507.9844|13-JAN-08|  SH_CLERK|  2600|             A|       124|           50|\n|        200|  Jennifer|   Whalen| JWHALEN|515.123.4444|17-SEP-03|   AD_ASST|  4400|             A|       101|           10|\n|        201|   Michael|Hartstein|MHARTSTE|515.123.5555|17-FEB-04|    MK_MAN| 13000|             A|       100|           20|\n|        202|       Pat|      Fay|    PFAY|603.123.6666|17-AUG-05|    MK_REP|  6000|             A|       201|           20|\n|        203|     Susan|   Mavris| SMAVRIS|515.123.7777|07-JUN-02|    HR_REP|  6500|             A|       101|           40|\n|        204|   Hermann|     Baer|   HBAER|515.123.8888|07-JUN-02|    PR_REP| 10000|             A|       101|           70|\n|        205|   Shelley|  Higgins|SHIGGINS|515.123.8080|07-JUN-02|    AC_MGR| 12008|             A|       101|          110|\n|        206|   William|    Gietz|  WGIETZ|515.123.8181|07-JUN-02|AC_ACCOUNT|  8300|             A|       205|          110|\n|        100|    Steven|     King|   SKING|515.123.4567|17-JUN-03|   AD_PRES| 24000|             A|       999|           90|\n|        101|     Neena|  Kochhar|NKOCHHAR|515.123.4568|21-SEP-05|     AD_VP| 17000|             A|       100|           90|\n|        102|       Lex|  De Haan| LDEHAAN|515.123.4569|13-JAN-01|     AD_VP| 17000|             A|       100|           90|\n|        103| Alexander|   Hunold| AHUNOLD|590.423.4567|03-JAN-06|   IT_PROG|  9000|             A|       102|           60|\n|        104|     Bruce|    Ernst|  BERNST|590.423.4568|21-MAY-07|   IT_PROG|  6000|             A|       103|           60|\n|        105|     David|   Austin| DAUSTIN|590.423.4569|25-JUN-05|   IT_PROG|  4800|             A|       103|           60|\n|        106|     Valli|Pataballa|VPATABAL|590.423.4560|05-FEB-06|   IT_PROG|  4800|             A|       103|           60|\n|        107|     Diana|  Lorentz|DLORENTZ|590.423.5567|07-FEB-07|   IT_PROG|  4200|             A|       103|           60|\n|        108|     Nancy|Greenberg|NGREENBE|515.124.4569|17-AUG-02|    FI_MGR| 12008|             A|       101|          100|\n|        109|    Daniel|   Faviet| DFAVIET|515.124.4169|16-AUG-02|FI_ACCOUNT|  9000|             A|       108|          100|\n|        110|      John|     Chen|   JCHEN|515.124.4269|28-SEP-05|FI_ACCOUNT|  8200|             A|       108|          100|\n+-----------+----------+---------+--------+------------+---------+----------+------+--------------+----------+-------------+\nonly showing top 20 rows\n\n"
     ]
    }
   ],
   "source": [
    "# HANDLING NULL VAULES\n",
    "    # - DROP ROWS WITH NULL VALUES WHEN ALL VALUES OF THE ROWS IS NULL\n",
    "    # - DROP ROWS WITH NULL VALUES WHEN SOME VALUES OF THE ROWS IS NULL & LIMIT IT WITH THRESH()\n",
    "    # - FILLING NULL VALUES WITH .FILL()\n",
    "    \n",
    "# Drop rows with any null value in the row\n",
    "df_drop_row1 = df1.na.drop(how='any')\n",
    "df_drop_row1.show()\n",
    "\n",
    "# Drop rows where all of the values of the row is null\n",
    "df_drop_row2 = df1.na.drop(how='all')\n",
    "df_drop_row2.show()\n",
    "\n",
    "# Drop rows where 2 or more of the values on the row is non-null\n",
    "df_drop_row3 = df1.na.drop(how='any',thresh=2)\n",
    "df_drop_row3.show()\n",
    "\n",
    "# Drop rows if there are any null values on the rows only on the specified column using subset\n",
    "df_drop_row4 = df1.na.drop(how='any', subset='COMMISSION_PCT')\n",
    "df_drop_row4.show()\n",
    "\n",
    "# Filling any null values with a specified value\n",
    "df_fill_null_values1 = df1.na.fill('Missing Values')\n",
    "df_fill_null_values1.show()\n",
    "\n",
    "# Filling null values on specific columns with a value\n",
    "df_fill_null_values2 = df1.na.fill({'COMMISSION_PCT': 'A', 'MANAGER_ID': 999})\n",
    "df_fill_null_values2.show()"
   ]
  },
  {
   "cell_type": "code",
   "execution_count": 0,
   "metadata": {
    "application/vnd.databricks.v1+cell": {
     "cellMetadata": {
      "byteLimit": 2048000,
      "rowLimit": 10000
     },
     "inputWidgets": {},
     "nuid": "d2700afd-d47b-43db-a18b-cc9bfe3b9445",
     "showTitle": false,
     "title": ""
    }
   },
   "outputs": [
    {
     "output_type": "stream",
     "name": "stdout",
     "output_type": "stream",
     "text": [
      "+-----------+-----------+------+\n|EMPLOYEE_ID| FIRST_NAME|SALARY|\n+-----------+-----------+------+\n|        201|    Michael| 13000|\n|        202|        Pat|  6000|\n|        203|      Susan|  6500|\n|        204|    Hermann| 10000|\n|        205|    Shelley| 12008|\n|        206|    William|  8300|\n|        100|     Steven| 24000|\n|        101|      Neena| 17000|\n|        102|        Lex| 17000|\n|        103|  Alexander|  9000|\n|        104|      Bruce|  6000|\n|        108|      Nancy| 12008|\n|        109|     Daniel|  9000|\n|        110|       John|  8200|\n|        111|     Ismael|  7700|\n|        112|Jose Manuel|  7800|\n|        113|       Luis|  6900|\n|        114|        Den| 11000|\n|        120|    Matthew|  8000|\n|        121|       Adam|  8200|\n+-----------+-----------+------+\nonly showing top 20 rows\n\n+-----------+----------+------+-------------+----------+\n|EMPLOYEE_ID|FIRST_NAME|SALARY|DEPARTMENT_ID|MANAGER_ID|\n+-----------+----------+------+-------------+----------+\n|        198|    Donald|  2600|           50|       124|\n|        199|   Douglas|  2600|           50|       124|\n+-----------+----------+------+-------------+----------+\n\n+-----------+----------+------+-------------+----------+\n|EMPLOYEE_ID|FIRST_NAME|SALARY|DEPARTMENT_ID|MANAGER_ID|\n+-----------+----------+------+-------------+----------+\n|        198|    Donald|  2600|           50|       124|\n|        199|   Douglas|  2600|           50|       124|\n|        120|   Matthew|  8000|           50|       100|\n|        121|      Adam|  8200|           50|       100|\n|        122|     Payam|  7900|           50|       100|\n|        123|    Shanta|  6500|           50|       100|\n|        124|     Kevin|  5800|           50|       100|\n|        125|     Julia|  3200|           50|       120|\n|        126|     Irene|  2700|           50|       120|\n|        127|     James|  2400|           50|       120|\n|        128|    Steven|  2200|           50|       120|\n|        129|     Laura|  3300|           50|       121|\n|        130|     Mozhe|  2800|           50|       121|\n|        131|     James|  2500|           50|       121|\n|        132|        TJ|  2100|           50|       121|\n|        133|     Jason|  3300|           50|       122|\n|        134|   Michael|  2900|           50|       122|\n|        135|        Ki|  2400|           50|       122|\n|        136|     Hazel|  2200|           50|       122|\n|        137|    Renske|  3600|           50|       123|\n+-----------+----------+------+-------------+----------+\nonly showing top 20 rows\n\n+-----------+----------+---------+--------+------------+---------+--------+------+--------------+----------+-------------+\n|EMPLOYEE_ID|FIRST_NAME|LAST_NAME|   EMAIL|PHONE_NUMBER|HIRE_DATE|  JOB_ID|SALARY|COMMISSION_PCT|MANAGER_ID|DEPARTMENT_ID|\n+-----------+----------+---------+--------+------------+---------+--------+------+--------------+----------+-------------+\n|        198|    Donald| OConnell|DOCONNEL|650.507.9833|21-JUN-07|SH_CLERK|  2600|          null|       124|           50|\n|        199|   Douglas|    Grant|  DGRANT|650.507.9844|13-JAN-08|SH_CLERK|  2600|          null|       124|           50|\n+-----------+----------+---------+--------+------------+---------+--------+------+--------------+----------+-------------+\n\n+----------+------+\n|FIRST_NAME|SALARY|\n+----------+------+\n|  Jennifer|  4400|\n|     David|  4800|\n|     Valli|  4800|\n|     Diana|  4200|\n| Alexander|  3100|\n|     Julia|  3200|\n|     Laura|  3300|\n|     Jason|  3300|\n|    Renske|  3600|\n|   Stephen|  3200|\n+----------+------+\n\n+---------------------------+\n|substring(FIRST_NAME, 1, 2)|\n+---------------------------+\n|                         Do|\n|                         Do|\n|                         Je|\n|                         Mi|\n|                         Pa|\n|                         Su|\n|                         He|\n|                         Sh|\n|                         Wi|\n|                         St|\n|                         Ne|\n|                         Le|\n|                         Al|\n|                         Br|\n|                         Da|\n|                         Va|\n|                         Di|\n|                         Na|\n|                         Da|\n|                         Jo|\n+---------------------------+\nonly showing top 20 rows\n\n"
     ]
    }
   ],
   "source": [
    "# FILTER OPERATIONS\n",
    "# USING &, |, ==\n",
    "# USING ~\n",
    "# USING LIKE\n",
    "# USING BETWEEN\n",
    "# USING SUBSTRING\n",
    "\n",
    "# Filter with Select\n",
    "df1.filter(df1.SALARY>=5000).select('EMPLOYEE_ID', 'FIRST_NAME', 'SALARY').show()\n",
    "\n",
    "# Filter with 'AND'\n",
    "df1.filter((df1.DEPARTMENT_ID == 50) & (df1.MANAGER_ID  == 124)).select('EMPLOYEE_ID', 'FIRST_NAME', 'SALARY', 'DEPARTMENT_ID', 'MANAGER_ID').show()\n",
    "\n",
    "# Filter with 'OR'\n",
    "df1.filter((df1.DEPARTMENT_ID == 50) | (df1.MANAGER_ID  == 124)).select('EMPLOYEE_ID', 'FIRST_NAME', 'SALARY', 'DEPARTMENT_ID', 'MANAGER_ID').show()\n",
    "\n",
    "# Filtering with 'Like'\n",
    "df1.filter(df1.FIRST_NAME.like('Do%')).show()\n",
    " \n",
    "# Filtering with 'Between'\n",
    "df1.select(\"FIRST_NAME\",\"SALARY\").where(df1.SALARY.between(3000, 5000)).show()\n",
    "\n",
    "# Filtering with 'Substring'\n",
    "df1.select(substring(df1.FIRST_NAME, 1, 2)).show()"
   ]
  },
  {
   "cell_type": "code",
   "execution_count": 0,
   "metadata": {
    "application/vnd.databricks.v1+cell": {
     "cellMetadata": {
      "byteLimit": 2048000,
      "rowLimit": 10000
     },
     "inputWidgets": {},
     "nuid": "cff39525-025c-4220-98e0-985dd5dcd97d",
     "showTitle": false,
     "title": ""
    }
   },
   "outputs": [
    {
     "output_type": "stream",
     "name": "stdout",
     "output_type": "stream",
     "text": [
      "+-----------+-----+\n| FIRST_NAME|count|\n+-----------+-----+\n|      Neena|    1|\n|     Shelli|    1|\n|      James|    2|\n|      Jason|    1|\n|    Shelley|    1|\n|    Matthew|    1|\n|   Jennifer|    1|\n|Jose Manuel|    1|\n|      Diana|    1|\n|     Ismael|    1|\n|      Mozhe|    1|\n|    Hermann|    1|\n|    Michael|    2|\n|      Susan|    1|\n|        Pat|    1|\n|        Guy|    1|\n|      Julia|    1|\n|      Irene|    1|\n|     Joshua|    1|\n|     Donald|    1|\n+-----------+-----+\nonly showing top 20 rows\n\n+-----------+----------------+-----------+---------------+------------------+\n| FIRST_NAME|avg(EMPLOYEE_ID)|avg(SALARY)|avg(MANAGER_ID)|avg(DEPARTMENT_ID)|\n+-----------+----------------+-----------+---------------+------------------+\n|      Neena|           101.0|    17000.0|          100.0|              90.0|\n|     Shelli|           116.0|     2900.0|          114.0|              30.0|\n|      James|           129.0|     2450.0|          120.5|              50.0|\n|      Jason|           133.0|     3300.0|          122.0|              50.0|\n|    Shelley|           205.0|    12008.0|          101.0|             110.0|\n|    Matthew|           120.0|     8000.0|          100.0|              50.0|\n|   Jennifer|           200.0|     4400.0|          101.0|              10.0|\n|Jose Manuel|           112.0|     7800.0|          108.0|             100.0|\n|      Diana|           107.0|     4200.0|          103.0|              60.0|\n|     Ismael|           111.0|     7700.0|          108.0|             100.0|\n|      Mozhe|           130.0|     2800.0|          121.0|              50.0|\n|    Hermann|           204.0|    10000.0|          101.0|              70.0|\n|    Michael|           167.5|     7950.0|          111.0|              35.0|\n|      Susan|           203.0|     6500.0|          101.0|              40.0|\n|        Pat|           202.0|     6000.0|          201.0|              20.0|\n|        Guy|           118.0|     2600.0|          114.0|              30.0|\n|      Julia|           125.0|     3200.0|          120.0|              50.0|\n|      Irene|           126.0|     2700.0|          120.0|              50.0|\n|     Joshua|           140.0|     2500.0|          123.0|              50.0|\n|     Donald|           198.0|     2600.0|          124.0|              50.0|\n+-----------+----------------+-----------+---------------+------------------+\nonly showing top 20 rows\n\n+-----------+----------------+-----------+---------------+------------------+\n| FIRST_NAME|max(EMPLOYEE_ID)|max(SALARY)|max(MANAGER_ID)|max(DEPARTMENT_ID)|\n+-----------+----------------+-----------+---------------+------------------+\n|      Neena|             101|      17000|            100|                90|\n|     Shelli|             116|       2900|            114|                30|\n|      James|             131|       2500|            121|                50|\n|      Jason|             133|       3300|            122|                50|\n|    Shelley|             205|      12008|            101|               110|\n|    Matthew|             120|       8000|            100|                50|\n|   Jennifer|             200|       4400|            101|                10|\n|Jose Manuel|             112|       7800|            108|               100|\n|      Diana|             107|       4200|            103|                60|\n|     Ismael|             111|       7700|            108|               100|\n|      Mozhe|             130|       2800|            121|                50|\n|    Hermann|             204|      10000|            101|                70|\n|    Michael|             201|      13000|            122|                50|\n|      Susan|             203|       6500|            101|                40|\n|        Pat|             202|       6000|            201|                20|\n|        Guy|             118|       2600|            114|                30|\n|      Julia|             125|       3200|            120|                50|\n|      Irene|             126|       2700|            120|                50|\n|     Joshua|             140|       2500|            123|                50|\n|     Donald|             198|       2600|            124|                50|\n+-----------+----------------+-----------+---------------+------------------+\nonly showing top 20 rows\n\n+-------------+-----------------+\n|DEPARTMENT_ID|TOTAL_SALARY_DEPT|\n+-------------+-----------------+\n|          110|            20308|\n|          100|            51608|\n|           90|            58000|\n|           70|            10000|\n|           60|            28800|\n|           40|             6500|\n|           30|            24900|\n|           20|            19000|\n|           10|             4400|\n+-------------+-----------------+\n\n"
     ]
    }
   ],
   "source": [
    "# GROUP BY & AGGREGATES\n",
    "\n",
    "# Group by & aggregate\n",
    "df1.groupBy(df1.FIRST_NAME).count().show()\n",
    "df1.groupBy(df1.FIRST_NAME).avg().show()\n",
    "df1.groupBy(df1.FIRST_NAME).max().show()\n",
    "  \n",
    "# Group by with select & filter & order by\n",
    "df1.groupBy('DEPARTMENT_ID').agg(sum('SALARY').alias(\"TOTAL_SALARY_DEPT\")).filter(df1.DEPARTMENT_ID != 50).sort(df1.DEPARTMENT_ID.desc()).show() "
   ]
  },
  {
   "cell_type": "code",
   "execution_count": 0,
   "metadata": {
    "application/vnd.databricks.v1+cell": {
     "cellMetadata": {
      "byteLimit": 2048000,
      "rowLimit": 10000
     },
     "inputWidgets": {},
     "nuid": "5aeda850-2497-40cb-9f49-cef34849a09c",
     "showTitle": false,
     "title": ""
    }
   },
   "outputs": [
    {
     "output_type": "stream",
     "name": "stdout",
     "output_type": "stream",
     "text": [
      "+-----------+----------+-----------+--------+------------+---------+----------+------+--------------+----------+-------------+-------------+----------------+----------+-----------+\n|EMPLOYEE_ID|FIRST_NAME|  LAST_NAME|   EMAIL|PHONE_NUMBER|HIRE_DATE|    JOB_ID|SALARY|COMMISSION_PCT|MANAGER_ID|DEPARTMENT_ID|DEPARTMENT_ID| DEPARTMENT_NAME|MANAGER_ID|LOCATION_ID|\n+-----------+----------+-----------+--------+------------+---------+----------+------+--------------+----------+-------------+-------------+----------------+----------+-----------+\n|        121|      Adam|      Fripp|  AFRIPP|650.123.2234|10-APR-05|    ST_MAN|  8200|          null|       100|           50|           50|        Shipping|       121|       1500|\n|        103| Alexander|     Hunold| AHUNOLD|590.423.4567|03-JAN-06|   IT_PROG|  9000|          null|       102|           60|           60|              IT|       103|       1400|\n|        115| Alexander|       Khoo|   AKHOO|515.127.4562|18-MAY-03|  PU_CLERK|  3100|          null|       114|           30|           30|      Purchasing|       114|       1700|\n|        104|     Bruce|      Ernst|  BERNST|590.423.4568|21-MAY-07|   IT_PROG|  6000|          null|       103|           60|           60|              IT|       103|       1400|\n|        109|    Daniel|     Faviet| DFAVIET|515.124.4169|16-AUG-02|FI_ACCOUNT|  9000|          null|       108|          100|          100|         Finance|       108|       1700|\n|        105|     David|     Austin| DAUSTIN|590.423.4569|25-JUN-05|   IT_PROG|  4800|          null|       103|           60|           60|              IT|       103|       1400|\n|        114|       Den|   Raphaely|DRAPHEAL|515.127.4561|07-DEC-02|    PU_MAN| 11000|          null|       100|           30|           30|      Purchasing|       114|       1700|\n|        107|     Diana|    Lorentz|DLORENTZ|590.423.5567|07-FEB-07|   IT_PROG|  4200|          null|       103|           60|           60|              IT|       103|       1400|\n|        198|    Donald|   OConnell|DOCONNEL|650.507.9833|21-JUN-07|  SH_CLERK|  2600|          null|       124|           50|           50|        Shipping|       121|       1500|\n|        199|   Douglas|      Grant|  DGRANT|650.507.9844|13-JAN-08|  SH_CLERK|  2600|          null|       124|           50|           50|        Shipping|       121|       1500|\n|        118|       Guy|     Himuro| GHIMURO|515.127.4565|15-NOV-06|  PU_CLERK|  2600|          null|       114|           30|           30|      Purchasing|       114|       1700|\n|        136|     Hazel| Philtanker|HPHILTAN|650.127.1634|06-FEB-08|  ST_CLERK|  2200|          null|       122|           50|           50|        Shipping|       121|       1500|\n|        204|   Hermann|       Baer|   HBAER|515.123.8888|07-JUN-02|    PR_REP| 10000|          null|       101|           70|           70|Public Relations|       204|       2700|\n|        126|     Irene|Mikkilineni|IMIKKILI|650.124.1224|28-SEP-06|  ST_CLERK|  2700|          null|       120|           50|           50|        Shipping|       121|       1500|\n|        111|    Ismael|    Sciarra|ISCIARRA|515.124.4369|30-SEP-05|FI_ACCOUNT|  7700|          null|       108|          100|          100|         Finance|       108|       1700|\n|        127|     James|     Landry| JLANDRY|650.124.1334|14-JAN-07|  ST_CLERK|  2400|          null|       120|           50|           50|        Shipping|       121|       1500|\n|        131|     James|     Marlow| JAMRLOW|650.124.7234|16-FEB-05|  ST_CLERK|  2500|          null|       121|           50|           50|        Shipping|       121|       1500|\n|        133|     Jason|     Mallin| JMALLIN|650.127.1934|14-JUN-04|  ST_CLERK|  3300|          null|       122|           50|           50|        Shipping|       121|       1500|\n|        200|  Jennifer|     Whalen| JWHALEN|515.123.4444|17-SEP-03|   AD_ASST|  4400|          null|       101|           10|           10|  Administration|       200|       1700|\n|        110|      John|       Chen|   JCHEN|515.124.4269|28-SEP-05|FI_ACCOUNT|  8200|          null|       108|          100|          100|         Finance|       108|       1700|\n+-----------+----------+-----------+--------+------------+---------+----------+------+--------------+----------+-------------+-------------+----------------+----------+-----------+\nonly showing top 20 rows\n\n+-----------+----------+-------------+\n|EMPLOYEE_ID|FIRST_NAME|DEPARTMENT_ID|\n+-----------+----------+-------------+\n|        121|      Adam|           50|\n|        198|    Donald|           50|\n|        199|   Douglas|           50|\n|        136|     Hazel|           50|\n|        126|     Irene|           50|\n|        127|     James|           50|\n|        131|     James|           50|\n|        133|     Jason|           50|\n|        139|      John|           50|\n|        140|    Joshua|           50|\n|        125|     Julia|           50|\n|        124|     Kevin|           50|\n|        135|        Ki|           50|\n|        129|     Laura|           50|\n|        120|   Matthew|           50|\n|        134|   Michael|           50|\n|        130|     Mozhe|           50|\n|        122|     Payam|           50|\n|        137|    Renske|           50|\n|        123|    Shanta|           50|\n+-----------+----------+-------------+\nonly showing top 20 rows\n\n+-----------+----------+-----------+--------+------------+---------+----------+------+--------------+----------+-------------+-------------+----------------+----------+-----------+\n|EMPLOYEE_ID|FIRST_NAME|  LAST_NAME|   EMAIL|PHONE_NUMBER|HIRE_DATE|    JOB_ID|SALARY|COMMISSION_PCT|MANAGER_ID|DEPARTMENT_ID|DEPARTMENT_ID| DEPARTMENT_NAME|MANAGER_ID|LOCATION_ID|\n+-----------+----------+-----------+--------+------------+---------+----------+------+--------------+----------+-------------+-------------+----------------+----------+-----------+\n|        121|      Adam|      Fripp|  AFRIPP|650.123.2234|10-APR-05|    ST_MAN|  8200|          null|       100|           50|           50|        Shipping|       121|       1500|\n|        103| Alexander|     Hunold| AHUNOLD|590.423.4567|03-JAN-06|   IT_PROG|  9000|          null|       102|           60|           60|              IT|       103|       1400|\n|        115| Alexander|       Khoo|   AKHOO|515.127.4562|18-MAY-03|  PU_CLERK|  3100|          null|       114|           30|           30|      Purchasing|       114|       1700|\n|        104|     Bruce|      Ernst|  BERNST|590.423.4568|21-MAY-07|   IT_PROG|  6000|          null|       103|           60|           60|              IT|       103|       1400|\n|        109|    Daniel|     Faviet| DFAVIET|515.124.4169|16-AUG-02|FI_ACCOUNT|  9000|          null|       108|          100|          100|         Finance|       108|       1700|\n|        105|     David|     Austin| DAUSTIN|590.423.4569|25-JUN-05|   IT_PROG|  4800|          null|       103|           60|           60|              IT|       103|       1400|\n|        114|       Den|   Raphaely|DRAPHEAL|515.127.4561|07-DEC-02|    PU_MAN| 11000|          null|       100|           30|           30|      Purchasing|       114|       1700|\n|        107|     Diana|    Lorentz|DLORENTZ|590.423.5567|07-FEB-07|   IT_PROG|  4200|          null|       103|           60|           60|              IT|       103|       1400|\n|        198|    Donald|   OConnell|DOCONNEL|650.507.9833|21-JUN-07|  SH_CLERK|  2600|          null|       124|           50|           50|        Shipping|       121|       1500|\n|        199|   Douglas|      Grant|  DGRANT|650.507.9844|13-JAN-08|  SH_CLERK|  2600|          null|       124|           50|           50|        Shipping|       121|       1500|\n|        118|       Guy|     Himuro| GHIMURO|515.127.4565|15-NOV-06|  PU_CLERK|  2600|          null|       114|           30|           30|      Purchasing|       114|       1700|\n|        136|     Hazel| Philtanker|HPHILTAN|650.127.1634|06-FEB-08|  ST_CLERK|  2200|          null|       122|           50|           50|        Shipping|       121|       1500|\n|        204|   Hermann|       Baer|   HBAER|515.123.8888|07-JUN-02|    PR_REP| 10000|          null|       101|           70|           70|Public Relations|       204|       2700|\n|        126|     Irene|Mikkilineni|IMIKKILI|650.124.1224|28-SEP-06|  ST_CLERK|  2700|          null|       120|           50|           50|        Shipping|       121|       1500|\n|        111|    Ismael|    Sciarra|ISCIARRA|515.124.4369|30-SEP-05|FI_ACCOUNT|  7700|          null|       108|          100|          100|         Finance|       108|       1700|\n|        127|     James|     Landry| JLANDRY|650.124.1334|14-JAN-07|  ST_CLERK|  2400|          null|       120|           50|           50|        Shipping|       121|       1500|\n|        131|     James|     Marlow| JAMRLOW|650.124.7234|16-FEB-05|  ST_CLERK|  2500|          null|       121|           50|           50|        Shipping|       121|       1500|\n|        133|     Jason|     Mallin| JMALLIN|650.127.1934|14-JUN-04|  ST_CLERK|  3300|          null|       122|           50|           50|        Shipping|       121|       1500|\n|        200|  Jennifer|     Whalen| JWHALEN|515.123.4444|17-SEP-03|   AD_ASST|  4400|          null|       101|           10|           10|  Administration|       200|       1700|\n|        110|      John|       Chen|   JCHEN|515.124.4269|28-SEP-05|FI_ACCOUNT|  8200|          null|       108|          100|          100|         Finance|       108|       1700|\n+-----------+----------+-----------+--------+------------+---------+----------+------+--------------+----------+-------------+-------------+----------------+----------+-----------+\nonly showing top 20 rows\n\n+-----------+----------+---------+-------+------------+---------+--------+------+--------------+----------+-------------+-------------+--------------------+----------+-----------+\n|EMPLOYEE_ID|FIRST_NAME|LAST_NAME|  EMAIL|PHONE_NUMBER|HIRE_DATE|  JOB_ID|SALARY|COMMISSION_PCT|MANAGER_ID|DEPARTMENT_ID|DEPARTMENT_ID|     DEPARTMENT_NAME|MANAGER_ID|LOCATION_ID|\n+-----------+----------+---------+-------+------------+---------+--------+------+--------------+----------+-------------+-------------+--------------------+----------+-----------+\n|       null|      null|     null|   null|        null|     null|    null|  null|          null|      null|         null|           80|               Sales|       145|       2500|\n|       null|      null|     null|   null|        null|     null|    null|  null|          null|      null|         null|          120|            Treasury|        - |       1700|\n|       null|      null|     null|   null|        null|     null|    null|  null|          null|      null|         null|          130|       Corporate Tax|        - |       1700|\n|       null|      null|     null|   null|        null|     null|    null|  null|          null|      null|         null|          140|  Control And Credit|        - |       1700|\n|       null|      null|     null|   null|        null|     null|    null|  null|          null|      null|         null|          150|Shareholder Services|        - |       1700|\n|       null|      null|     null|   null|        null|     null|    null|  null|          null|      null|         null|          160|            Benefits|        - |       1700|\n|       null|      null|     null|   null|        null|     null|    null|  null|          null|      null|         null|          170|       Manufacturing|        - |       1700|\n|       null|      null|     null|   null|        null|     null|    null|  null|          null|      null|         null|          180|        Construction|        - |       1700|\n|       null|      null|     null|   null|        null|     null|    null|  null|          null|      null|         null|          190|         Contracting|        - |       1700|\n|       null|      null|     null|   null|        null|     null|    null|  null|          null|      null|         null|          200|          Operations|        - |       1700|\n|       null|      null|     null|   null|        null|     null|    null|  null|          null|      null|         null|          210|          IT Support|        - |       1700|\n|       null|      null|     null|   null|        null|     null|    null|  null|          null|      null|         null|          220|                 NOC|        - |       1700|\n|       null|      null|     null|   null|        null|     null|    null|  null|          null|      null|         null|          230|         IT Helpdesk|        - |       1700|\n|       null|      null|     null|   null|        null|     null|    null|  null|          null|      null|         null|          240|    Government Sales|        - |       1700|\n|       null|      null|     null|   null|        null|     null|    null|  null|          null|      null|         null|          250|        Retail Sales|        - |       1700|\n|       null|      null|     null|   null|        null|     null|    null|  null|          null|      null|         null|          260|          Recruiting|        - |       1700|\n|       null|      null|     null|   null|        null|     null|    null|  null|          null|      null|         null|          270|             Payroll|        - |       1700|\n|        121|      Adam|    Fripp| AFRIPP|650.123.2234|10-APR-05|  ST_MAN|  8200|          null|       100|           50|           50|            Shipping|       121|       1500|\n|        115| Alexander|     Khoo|  AKHOO|515.127.4562|18-MAY-03|PU_CLERK|  3100|          null|       114|           30|           30|          Purchasing|       114|       1700|\n|        103| Alexander|   Hunold|AHUNOLD|590.423.4567|03-JAN-06| IT_PROG|  9000|          null|       102|           60|           60|                  IT|       103|       1400|\n+-----------+----------+---------+-------+------------+---------+--------+------+--------------+----------+-------------+-------------+--------------------+----------+-----------+\nonly showing top 20 rows\n\n+-----------+----------+---------+-------+------------+---------+--------+------+--------------+----------+-------------+-------------+--------------------+----------+-----------+\n|EMPLOYEE_ID|FIRST_NAME|LAST_NAME|  EMAIL|PHONE_NUMBER|HIRE_DATE|  JOB_ID|SALARY|COMMISSION_PCT|MANAGER_ID|DEPARTMENT_ID|DEPARTMENT_ID|     DEPARTMENT_NAME|MANAGER_ID|LOCATION_ID|\n+-----------+----------+---------+-------+------------+---------+--------+------+--------------+----------+-------------+-------------+--------------------+----------+-----------+\n|       null|      null|     null|   null|        null|     null|    null|  null|          null|      null|         null|           80|               Sales|       145|       2500|\n|       null|      null|     null|   null|        null|     null|    null|  null|          null|      null|         null|          120|            Treasury|        - |       1700|\n|       null|      null|     null|   null|        null|     null|    null|  null|          null|      null|         null|          130|       Corporate Tax|        - |       1700|\n|       null|      null|     null|   null|        null|     null|    null|  null|          null|      null|         null|          140|  Control And Credit|        - |       1700|\n|       null|      null|     null|   null|        null|     null|    null|  null|          null|      null|         null|          150|Shareholder Services|        - |       1700|\n|       null|      null|     null|   null|        null|     null|    null|  null|          null|      null|         null|          160|            Benefits|        - |       1700|\n|       null|      null|     null|   null|        null|     null|    null|  null|          null|      null|         null|          170|       Manufacturing|        - |       1700|\n|       null|      null|     null|   null|        null|     null|    null|  null|          null|      null|         null|          180|        Construction|        - |       1700|\n|       null|      null|     null|   null|        null|     null|    null|  null|          null|      null|         null|          190|         Contracting|        - |       1700|\n|       null|      null|     null|   null|        null|     null|    null|  null|          null|      null|         null|          200|          Operations|        - |       1700|\n|       null|      null|     null|   null|        null|     null|    null|  null|          null|      null|         null|          210|          IT Support|        - |       1700|\n|       null|      null|     null|   null|        null|     null|    null|  null|          null|      null|         null|          220|                 NOC|        - |       1700|\n|       null|      null|     null|   null|        null|     null|    null|  null|          null|      null|         null|          230|         IT Helpdesk|        - |       1700|\n|       null|      null|     null|   null|        null|     null|    null|  null|          null|      null|         null|          240|    Government Sales|        - |       1700|\n|       null|      null|     null|   null|        null|     null|    null|  null|          null|      null|         null|          250|        Retail Sales|        - |       1700|\n|       null|      null|     null|   null|        null|     null|    null|  null|          null|      null|         null|          260|          Recruiting|        - |       1700|\n|       null|      null|     null|   null|        null|     null|    null|  null|          null|      null|         null|          270|             Payroll|        - |       1700|\n|        121|      Adam|    Fripp| AFRIPP|650.123.2234|10-APR-05|  ST_MAN|  8200|          null|       100|           50|           50|            Shipping|       121|       1500|\n|        115| Alexander|     Khoo|  AKHOO|515.127.4562|18-MAY-03|PU_CLERK|  3100|          null|       114|           30|           30|          Purchasing|       114|       1700|\n|        103| Alexander|   Hunold|AHUNOLD|590.423.4567|03-JAN-06| IT_PROG|  9000|          null|       102|           60|           60|                  IT|       103|       1400|\n+-----------+----------+---------+-------+------------+---------+--------+------+--------------+----------+-------------+-------------+--------------------+----------+-----------+\nonly showing top 20 rows\n\n"
     ]
    }
   ],
   "source": [
    "# JOINS\n",
    "\n",
    "# Inner join\n",
    "df_inner_join1 = df1.join(df2, df1.DEPARTMENT_ID == df2.DEPARTMENT_ID, 'inner').sort(df1.FIRST_NAME.asc())\n",
    "df_inner_join1.show()\n",
    "\n",
    "# Inner join with select, filter, order by\n",
    "df_inner_join2 = df1.join(df2, df1.DEPARTMENT_ID == df2.DEPARTMENT_ID, 'inner').filter(df1.DEPARTMENT_ID == 50).select(df1.EMPLOYEE_ID, df1.FIRST_NAME, df2.DEPARTMENT_ID).sort(df1.FIRST_NAME.asc())\n",
    "df_inner_join2.show()\n",
    "\n",
    "# Left join, the df1 is the 'left' table here\n",
    "df_left_join1 = df1.join(df2, df1.DEPARTMENT_ID == df2.DEPARTMENT_ID, 'left').sort(df1.FIRST_NAME.asc())\n",
    "df_left_join1.show()\n",
    "\n",
    "# Right join, the df2 is the 'right' table here\n",
    "df_right_join1 = df1.join(df2, df1.DEPARTMENT_ID == df2.DEPARTMENT_ID, 'right').sort(df1.FIRST_NAME.asc())\n",
    "df_right_join1.show()\n",
    "\n",
    "# full join\n",
    "df_full_join1 = df1.join(df2, df1.DEPARTMENT_ID == df2.DEPARTMENT_ID, 'full').sort(df1.FIRST_NAME.asc())\n",
    "df_full_join1.show()"
   ]
  },
  {
   "cell_type": "code",
   "execution_count": 0,
   "metadata": {
    "application/vnd.databricks.v1+cell": {
     "cellMetadata": {
      "byteLimit": 2048000,
      "rowLimit": 10000
     },
     "inputWidgets": {},
     "nuid": "f33e80e6-6bbf-4951-8c5b-36c89e7873e2",
     "showTitle": false,
     "title": ""
    }
   },
   "outputs": [
    {
     "output_type": "stream",
     "name": "stdout",
     "output_type": "stream",
     "text": [
      "+-----------+----------+-------------+\n|EMPLOYEE_ID|FIRST_NAME|DEPARTMENT_ID|\n+-----------+----------+-------------+\n|        120|   Matthew|           50|\n|        121|      Adam|           50|\n|        122|     Payam|           50|\n|        123|    Shanta|           50|\n|        124|     Kevin|           50|\n|        125|     Julia|           50|\n|        126|     Irene|           50|\n|        127|     James|           50|\n|        128|    Steven|           50|\n|        129|     Laura|           50|\n|        130|     Mozhe|           50|\n|        131|     James|           50|\n|        132|        TJ|           50|\n|        133|     Jason|           50|\n|        134|   Michael|           50|\n|        135|        Ki|           50|\n|        136|     Hazel|           50|\n|        137|    Renske|           50|\n|        138|   Stephen|           50|\n|        139|      John|           50|\n+-----------+----------+-------------+\nonly showing top 20 rows\n\n"
     ]
    }
   ],
   "source": [
    "# ORDER BY\n",
    "df1.filter(df1.DEPARTMENT_ID == 50).select('EMPLOYEE_ID', 'FIRST_NAME', 'DEPARTMENT_ID').sort('EMPLOYEE_ID', asc = True).show()"
   ]
  },
  {
   "cell_type": "code",
   "execution_count": 0,
   "metadata": {
    "application/vnd.databricks.v1+cell": {
     "cellMetadata": {
      "byteLimit": 2048000,
      "rowLimit": 10000
     },
     "inputWidgets": {},
     "nuid": "8e6d21ff-e45d-4beb-bd76-2569a2bf7303",
     "showTitle": false,
     "title": ""
    }
   },
   "outputs": [
    {
     "output_type": "stream",
     "name": "stdout",
     "output_type": "stream",
     "text": [
      "+-----------+----------+---------+------+------------+---------+--------+------+--------------+----------+-------------+\n|EMPLOYEE_ID|FIRST_NAME|LAST_NAME| EMAIL|PHONE_NUMBER|HIRE_DATE|  JOB_ID|SALARY|COMMISSION_PCT|MANAGER_ID|DEPARTMENT_ID|\n+-----------+----------+---------+------+------------+---------+--------+------+--------------+----------+-------------+\n|        285|    Mickey|    Mouse|MICKEY| 505.122.333|02-FEB-09|ST_CLERK|  2000|            10|       103|           50|\n+-----------+----------+---------+------+------------+---------+--------+------+--------------+----------+-------------+\n\n+-----------+----------+---------+--------+------------+---------+--------+------+--------------+----------+-------------+\n|EMPLOYEE_ID|FIRST_NAME|LAST_NAME|   EMAIL|PHONE_NUMBER|HIRE_DATE|  JOB_ID|SALARY|COMMISSION_PCT|MANAGER_ID|DEPARTMENT_ID|\n+-----------+----------+---------+--------+------------+---------+--------+------+--------------+----------+-------------+\n|        198|    Donald| OConnell|DOCONNEL|650.507.9833|21-JUN-07|SH_CLERK|  2600|          null|       124|           50|\n|        285|    Mickey|    Mouse|  MICKEY| 505.122.333|02-FEB-09|ST_CLERK|  2000|            10|       103|           50|\n+-----------+----------+---------+--------+------------+---------+--------+------+--------------+----------+-------------+\n\n"
     ]
    }
   ],
   "source": [
    "# INSERT ROWS\n",
    "\n",
    "# Create columns identical to the table to be inserted\n",
    "columns = ['EMPLOYEE_ID', 'FIRST_NAME', 'LAST_NAME', 'EMAIL', 'PHONE_NUMBER', 'HIRE_DATE', 'JOB_ID', 'SALARY', 'COMMISSION_PCT', 'MANAGER_ID', 'DEPARTMENT_ID']\n",
    "\n",
    "# Create data to be inserted\n",
    "new_row = spark.createDataFrame([(285, 'Mickey', 'Mouse', 'MICKEY', '505.122.333', '02-FEB-09', 'ST_CLERK', 2000, 10 , 103, 50)], columns)\n",
    "new_row.show()\n",
    "\n",
    "# Add new rows to existing df using union\n",
    "df_insert1 = df1.union(new_row)\n",
    "df_insert1.filter((df1.FIRST_NAME == 'Mickey') | (df1.FIRST_NAME == 'Donald')).show()"
   ]
  },
  {
   "cell_type": "code",
   "execution_count": 0,
   "metadata": {
    "application/vnd.databricks.v1+cell": {
     "cellMetadata": {
      "byteLimit": 2048000,
      "rowLimit": 10000
     },
     "inputWidgets": {},
     "nuid": "5ad992a2-c2b3-4a90-8389-1cb3638131d3",
     "showTitle": false,
     "title": ""
    }
   },
   "outputs": [
    {
     "output_type": "stream",
     "name": "stdout",
     "output_type": "stream",
     "text": [
      "+-----------+----------+---------+--------+------------+---------+----------+------+--------------+----------+-------------+\n|EMPLOYEE_ID|FIRST_NAME|LAST_NAME|   EMAIL|PHONE_NUMBER|HIRE_DATE|    JOB_ID|SALARY|COMMISSION_PCT|MANAGER_ID|DEPARTMENT_ID|\n+-----------+----------+---------+--------+------------+---------+----------+------+--------------+----------+-------------+\n|        198|    Donald| OConnell|DOCONNEL|650.507.9833|21-JUN-07|  SH_CLERK|  2600|          null|       124|           50|\n|        199|   Douglas|    Grant|  DGRANT|650.507.9844|13-JAN-08|  SH_CLERK|  2600|          null|       124|           50|\n|        200|  Jennifer|   Whalen| JWHALEN|515.123.4444|17-SEP-03|   AD_ASST|  4400|          null|       101|           10|\n|        201|   Michael|Hartstein|MHARTSTE|515.123.5555|17-FEB-04|    MK_MAN| 13000|          null|       100|           20|\n|        202|       Pat|      Fay|    PFAY|603.123.6666|17-AUG-05|    MK_REP|  6000|          null|       201|           20|\n|        203|     Susan|   Mavris| SMAVRIS|515.123.7777|07-JUN-02|    HR_REP|  6500|          null|       101|           40|\n|        204|   Hermann|     Baer|   HBAER|515.123.8888|07-JUN-02|    PR_REP| 10000|          null|       101|           70|\n|        205|   Shelley|  Higgins|SHIGGINS|515.123.8080|07-JUN-02|    AC_MGR| 12008|          null|       101|          110|\n|        206|   William|    Gietz|  WGIETZ|515.123.8181|07-JUN-02|AC_ACCOUNT|  8300|          null|       205|          110|\n|        100|    Steven|     King|   SKING|515.123.4567|17-JUN-03|   AD_PRES| 24000|          null|      null|           90|\n|        101|     Neena|  Kochhar|NKOCHHAR|515.123.4568|21-SEP-05|     AD_VP| 17000|          null|       100|           90|\n|        102|       Lex|  De Haan| LDEHAAN|515.123.4569|13-JAN-01|     AD_VP| 17000|          null|       100|           90|\n|        103| Alexander|   Hunold| AHUNOLD|590.423.4567|03-JAN-06|   IT_PROG|  9000|          null|       102|           60|\n|        104|     Bruce|    Ernst|  BERNST|590.423.4568|21-MAY-07|   IT_PROG|  6000|          null|       103|           60|\n|        105|     David|   Austin| DAUSTIN|590.423.4569|25-JUN-05|   IT_PROG|  4800|          null|       103|           60|\n|        106|     Valli|Pataballa|VPATABAL|590.423.4560|05-FEB-06|   IT_PROG|  4800|          null|       103|           60|\n|        107|     Diana|  Lorentz|DLORENTZ|590.423.5567|07-FEB-07|   IT_PROG|  4200|          null|       103|           60|\n|        108|     Nancy|Greenberg|NGREENBE|515.124.4569|17-AUG-02|    FI_MGR| 12008|          null|       101|          100|\n|        109|    Daniel|   Faviet| DFAVIET|515.124.4169|16-AUG-02|FI_ACCOUNT|  9000|          null|       108|          100|\n|        110|      John|     Chen|   JCHEN|515.124.4269|28-SEP-05|FI_ACCOUNT|  8200|          null|       108|          100|\n+-----------+----------+---------+--------+------------+---------+----------+------+--------------+----------+-------------+\nonly showing top 20 rows\n\n+-----------+----------+---------+--------+------------+---------+----------+------+--------------+----------+-------------+\n|EMPLOYEE_ID|FIRST_NAME|LAST_NAME|   EMAIL|PHONE_NUMBER|HIRE_DATE|    JOB_ID|SALARY|COMMISSION_PCT|MANAGER_ID|DEPARTMENT_ID|\n+-----------+----------+---------+--------+------------+---------+----------+------+--------------+----------+-------------+\n|        198|   Donald2| OConnell|DOCONNEL|650.507.9833|21-JUN-07|  SH_CLERK|  2600|          null|       124|           50|\n|        199|   Douglas|    Grant|  DGRANT|650.507.9844|13-JAN-08|  SH_CLERK|  2600|          null|       124|           50|\n|        200| Jennifer2|   Whalen| JWHALEN|515.123.4444|17-SEP-03|   AD_ASST|  4400|          null|       101|           10|\n|        201|   Michael|Hartstein|MHARTSTE|515.123.5555|17-FEB-04|    MK_MAN| 13000|          null|       100|           20|\n|        202|       Pat|      Fay|    PFAY|603.123.6666|17-AUG-05|    MK_REP|  6000|          null|       201|           20|\n|        203|     Susan|   Mavris| SMAVRIS|515.123.7777|07-JUN-02|    HR_REP|  6500|          null|       101|           40|\n|        204|   Hermann|     Baer|   HBAER|515.123.8888|07-JUN-02|    PR_REP| 10000|          null|       101|           70|\n|        205|   Shelley|  Higgins|SHIGGINS|515.123.8080|07-JUN-02|    AC_MGR| 12008|          null|       101|          110|\n|        206|   William|    Gietz|  WGIETZ|515.123.8181|07-JUN-02|AC_ACCOUNT|  8300|          null|       205|          110|\n|        100|    Steven|     King|   SKING|515.123.4567|17-JUN-03|   AD_PRES| 24000|          null|      null|           90|\n|        101|     Neena|  Kochhar|NKOCHHAR|515.123.4568|21-SEP-05|     AD_VP| 17000|          null|       100|           90|\n|        102|       Lex|  De Haan| LDEHAAN|515.123.4569|13-JAN-01|     AD_VP| 17000|          null|       100|           90|\n|        103| Alexander|   Hunold| AHUNOLD|590.423.4567|03-JAN-06|   IT_PROG|  9000|          null|       102|           60|\n|        104|     Bruce|    Ernst|  BERNST|590.423.4568|21-MAY-07|   IT_PROG|  6000|          null|       103|           60|\n|        105|     David|   Austin| DAUSTIN|590.423.4569|25-JUN-05|   IT_PROG|  4800|          null|       103|           60|\n|        106|     Valli|Pataballa|VPATABAL|590.423.4560|05-FEB-06|   IT_PROG|  4800|          null|       103|           60|\n|        107|     Diana|  Lorentz|DLORENTZ|590.423.5567|07-FEB-07|   IT_PROG|  4200|          null|       103|           60|\n|        108|     Nancy|Greenberg|NGREENBE|515.124.4569|17-AUG-02|    FI_MGR| 12008|          null|       101|          100|\n|        109|    Daniel|   Faviet| DFAVIET|515.124.4169|16-AUG-02|FI_ACCOUNT|  9000|          null|       108|          100|\n|        110|      John|     Chen|   JCHEN|515.124.4269|28-SEP-05|FI_ACCOUNT|  8200|          null|       108|          100|\n+-----------+----------+---------+--------+------------+---------+----------+------+--------------+----------+-------------+\nonly showing top 20 rows\n\n"
     ]
    }
   ],
   "source": [
    "# UPDATE ROWS\n",
    "\n",
    "# Update rows, when Donald then update Donald2, when Jennifer then update to Jennifer2\n",
    "df1.show()\n",
    "df_update1 = df1.withColumn(\"FIRST_NAME\", when(df1.FIRST_NAME == \"Donald\",\"Donald2\").when(df1.FIRST_NAME == \"Jennifer\",\"Jennifer2\").otherwise(df1.FIRST_NAME))\n",
    "df_update1.show()"
   ]
  },
  {
   "cell_type": "code",
   "execution_count": 0,
   "metadata": {
    "application/vnd.databricks.v1+cell": {
     "cellMetadata": {
      "byteLimit": 2048000,
      "rowLimit": 10000
     },
     "inputWidgets": {},
     "nuid": "25bfc379-5436-4449-9dc6-b102dcee3e4f",
     "showTitle": false,
     "title": ""
    }
   },
   "outputs": [
    {
     "output_type": "stream",
     "name": "stdout",
     "output_type": "stream",
     "text": [
      "+-----------+-----------+----------+--------+------------+---------+----------+------+--------------+----------+-------------+\n|EMPLOYEE_ID| FIRST_NAME| LAST_NAME|   EMAIL|PHONE_NUMBER|HIRE_DATE|    JOB_ID|SALARY|COMMISSION_PCT|MANAGER_ID|DEPARTMENT_ID|\n+-----------+-----------+----------+--------+------------+---------+----------+------+--------------+----------+-------------+\n|        200|   Jennifer|    Whalen| JWHALEN|515.123.4444|17-SEP-03|   AD_ASST|  4400|          null|       101|           10|\n|        201|    Michael| Hartstein|MHARTSTE|515.123.5555|17-FEB-04|    MK_MAN| 13000|          null|       100|           20|\n|        202|        Pat|       Fay|    PFAY|603.123.6666|17-AUG-05|    MK_REP|  6000|          null|       201|           20|\n|        203|      Susan|    Mavris| SMAVRIS|515.123.7777|07-JUN-02|    HR_REP|  6500|          null|       101|           40|\n|        204|    Hermann|      Baer|   HBAER|515.123.8888|07-JUN-02|    PR_REP| 10000|          null|       101|           70|\n|        205|    Shelley|   Higgins|SHIGGINS|515.123.8080|07-JUN-02|    AC_MGR| 12008|          null|       101|          110|\n|        206|    William|     Gietz|  WGIETZ|515.123.8181|07-JUN-02|AC_ACCOUNT|  8300|          null|       205|          110|\n|        108|      Nancy| Greenberg|NGREENBE|515.124.4569|17-AUG-02|    FI_MGR| 12008|          null|       101|          100|\n|        109|     Daniel|    Faviet| DFAVIET|515.124.4169|16-AUG-02|FI_ACCOUNT|  9000|          null|       108|          100|\n|        110|       John|      Chen|   JCHEN|515.124.4269|28-SEP-05|FI_ACCOUNT|  8200|          null|       108|          100|\n|        111|     Ismael|   Sciarra|ISCIARRA|515.124.4369|30-SEP-05|FI_ACCOUNT|  7700|          null|       108|          100|\n|        112|Jose Manuel|     Urman| JMURMAN|515.124.4469|07-MAR-06|FI_ACCOUNT|  7800|          null|       108|          100|\n|        113|       Luis|      Popp|   LPOPP|515.124.4567|07-DEC-07|FI_ACCOUNT|  6900|          null|       108|          100|\n|        114|        Den|  Raphaely|DRAPHEAL|515.127.4561|07-DEC-02|    PU_MAN| 11000|          null|       100|           30|\n|        115|  Alexander|      Khoo|   AKHOO|515.127.4562|18-MAY-03|  PU_CLERK|  3100|          null|       114|           30|\n|        116|     Shelli|     Baida|  SBAIDA|515.127.4563|24-DEC-05|  PU_CLERK|  2900|          null|       114|           30|\n|        117|      Sigal|    Tobias| STOBIAS|515.127.4564|24-JUL-05|  PU_CLERK|  2800|          null|       114|           30|\n|        118|        Guy|    Himuro| GHIMURO|515.127.4565|15-NOV-06|  PU_CLERK|  2600|          null|       114|           30|\n|        119|      Karen|Colmenares|KCOLMENA|515.127.4566|10-AUG-07|  PU_CLERK|  2500|          null|       114|           30|\n+-----------+-----------+----------+--------+------------+---------+----------+------+--------------+----------+-------------+\n\n"
     ]
    }
   ],
   "source": [
    "# DELETE ROWS\n",
    "\n",
    "# You can just use filter the df and assign it to a new df since it will not include those rows\n",
    "df_delete_rows = df1.filter((df1.DEPARTMENT_ID != 60) & (df1.DEPARTMENT_ID != 50) & (df1.DEPARTMENT_ID != 90))\n",
    "df_delete_rows.show()"
   ]
  },
  {
   "cell_type": "code",
   "execution_count": 0,
   "metadata": {
    "application/vnd.databricks.v1+cell": {
     "cellMetadata": {
      "byteLimit": 2048000,
      "rowLimit": 10000
     },
     "inputWidgets": {},
     "nuid": "63575f87-4062-46b0-85c1-0bc2bdd93786",
     "showTitle": false,
     "title": ""
    }
   },
   "outputs": [
    {
     "output_type": "stream",
     "name": "stdout",
     "output_type": "stream",
     "text": [
      "Out[217]: 5"
     ]
    }
   ],
   "source": [
    "# REPARTITION\n",
    "    # Returns a new DataFrame partitioned by the given partitioning expressions. The resulting DataFrame is hash partitioned.\n",
    "\n",
    "# Repartition by number of partitions\n",
    "df_repartition1 = df1.repartition(5)\n",
    "df_repartition1.rdd.getNumPartitions()\n",
    "\n",
    "# Repartition by column name/s\n",
    "df_repartition2 = df1.repartition('EMPLOYEE_ID', 'FIRST_NAME')\n",
    "df_repartition2.rdd.getNumPartitions()\n",
    "\n",
    "# Repartition by column name & specify number of partitions\n",
    "df_repartition3 = df1.repartition(5, 'EMPLOYEE_ID')\n",
    "df_repartition3.rdd.getNumPartitions()"
   ]
  },
  {
   "cell_type": "code",
   "execution_count": 0,
   "metadata": {
    "application/vnd.databricks.v1+cell": {
     "cellMetadata": {
      "byteLimit": 2048000,
      "rowLimit": 10000
     },
     "inputWidgets": {},
     "nuid": "6944adf2-c843-4316-bdb4-ba9055598f69",
     "showTitle": false,
     "title": ""
    }
   },
   "outputs": [],
   "source": [
    "# PARTITIONBY\n",
    "    # Partitions the output by the given columns on the file system.\n",
    "\n",
    "# df1.write.partitionBy('FIRST_NAME').mode(\"overwrite\").format(\"csv\")"
   ]
  },
  {
   "cell_type": "code",
   "execution_count": 0,
   "metadata": {
    "application/vnd.databricks.v1+cell": {
     "cellMetadata": {
      "byteLimit": 2048000,
      "rowLimit": 10000
     },
     "inputWidgets": {},
     "nuid": "829e40f3-4b00-4c04-9c1d-d2c67cc5eed2",
     "showTitle": false,
     "title": ""
    }
   },
   "outputs": [],
   "source": [
    "# WRITE TO FILES\n",
    "# OPTIONS WHEN WRITING TO FILES\n",
    "# WRITE OPTIONS:\n",
    "    # overwrite – mode is used to overwrite the existing file.\n",
    "    # append – To add the data to the existing file.\n",
    "    # ignore – Ignores write operation when the file already exists.\n",
    "    # error – This is a default option when the file already exists, it returns an error.\n",
    "\n",
    "df1.write.option('header',True).mode('overwrite').csv('/FileStore/tables/employees_new2.csv')\n",
    "\n"
   ]
  }
 ],
 "metadata": {
  "application/vnd.databricks.v1+notebook": {
   "dashboards": [],
   "language": "python",
   "notebookMetadata": {
    "pythonIndentUnit": 4
   },
   "notebookName": "pyspark_samples_leo",
   "widgets": {}
  }
 },
 "nbformat": 4,
 "nbformat_minor": 0
}
